{
 "cells": [
  {
   "cell_type": "markdown",
   "metadata": {},
   "source": [
    "# Pandas 학습 "
   ]
  },
  {
   "cell_type": "markdown",
   "metadata": {},
   "source": [
    "1. 데이터 분석을 위한 모듈 : 절대적(중학생 과제 작품으로도 사용)\n",
    "2. excel과 가장 큰 차이점 : Pandas는 대용량 데이터 처리가 가능\n",
    "3. 데이터 분석 및 데이터 가공에 절대적으로 사용되는 library\n",
    "4. 주요 학습 내용\n",
    "> 1. DataFrame - excel의 다수의 컬럼들을 보유한 table과 동일하다 간주\n",
    "> 2. series - DataFrame을 구성하는 column 간주"
   ]
  },
  {
   "cell_type": "markdown",
   "metadata": {},
   "source": [
    "**참고**\n",
    "\n",
    "주피터 노트북 익스텐션을 활용하여 생산성 높이기\n",
    ">pip install jupyter_contrib_nbextensions && jupyter contrib nbextension install\n",
    "\n",
    "사용하는 기능\n",
    "\n",
    "pep8 코딩 컨벤션 체크 및 포멧 정리 기능\n",
    "\n",
    "목차"
   ]
  },
  {
   "cell_type": "code",
   "execution_count": null,
   "metadata": {},
   "outputs": [],
   "source": [
    "# !pip install jupyter_contrib_nbextensions && jupyter contrib nbextension install"
   ]
  },
  {
   "cell_type": "markdown",
   "metadata": {},
   "source": [
    "## 기초 익히기\n",
    "> 이미 존재하는 파일의 내용으로 DataFrame 생성하기 <br>\n",
    "> 중복 데이터 제거 <br>\n",
    "> 결측시 처리"
   ]
  },
  {
   "cell_type": "markdown",
   "metadata": {},
   "source": [
    "## DataFrame  & Series 구조 \n",
    "> https://pandas.pydata.org/docs/getting_started/index.html <br>\n",
    "    \n"
   ]
  },
  {
   "cell_type": "code",
   "execution_count": 9,
   "metadata": {},
   "outputs": [],
   "source": [
    "# 전처리를 위한 library import\n",
    "\n",
    "# as 키워드는 library 별칭 부여 : pd 관습적으로 사용\n",
    "\n",
    "import pandas as pd\n",
    "import numpy as np"
   ]
  },
  {
   "cell_type": "code",
   "execution_count": 2,
   "metadata": {},
   "outputs": [
    {
     "name": "stdout",
     "output_type": "stream",
     "text": [
      "Name: pandas\n",
      "Version: 1.1.3\n",
      "Summary: Powerful data structures for data analysis, time series, and statistics\n",
      "Home-page: https://pandas.pydata.org\n",
      "Author: None\n",
      "Author-email: None\n",
      "License: BSD\n",
      "Location: c:\\users\\playdata\\anaconda3\\lib\\site-packages\n",
      "Requires: pytz, python-dateutil, numpy\n",
      "Required-by: visions, statsmodels, seaborn, phik, pandas-profiling, mglearn\n"
     ]
    }
   ],
   "source": [
    "!pip show pandas"
   ]
  },
  {
   "cell_type": "code",
   "execution_count": 3,
   "metadata": {},
   "outputs": [
    {
     "data": {
      "text/html": [
       "<div>\n",
       "<style scoped>\n",
       "    .dataframe tbody tr th:only-of-type {\n",
       "        vertical-align: middle;\n",
       "    }\n",
       "\n",
       "    .dataframe tbody tr th {\n",
       "        vertical-align: top;\n",
       "    }\n",
       "\n",
       "    .dataframe thead th {\n",
       "        text-align: right;\n",
       "    }\n",
       "</style>\n",
       "<table border=\"1\" class=\"dataframe\">\n",
       "  <thead>\n",
       "    <tr style=\"text-align: right;\">\n",
       "      <th></th>\n",
       "      <th>Name</th>\n",
       "      <th>Age</th>\n",
       "      <th>Sex</th>\n",
       "    </tr>\n",
       "  </thead>\n",
       "  <tbody>\n",
       "    <tr>\n",
       "      <th>0</th>\n",
       "      <td>Braund, Mr. Owen Harris</td>\n",
       "      <td>22</td>\n",
       "      <td>male</td>\n",
       "    </tr>\n",
       "    <tr>\n",
       "      <th>1</th>\n",
       "      <td>Allen, Mr. William Henry</td>\n",
       "      <td>35</td>\n",
       "      <td>male</td>\n",
       "    </tr>\n",
       "    <tr>\n",
       "      <th>2</th>\n",
       "      <td>Bonnell, Miss. Elizabeth</td>\n",
       "      <td>58</td>\n",
       "      <td>female</td>\n",
       "    </tr>\n",
       "  </tbody>\n",
       "</table>\n",
       "</div>"
      ],
      "text/plain": [
       "                       Name  Age     Sex\n",
       "0   Braund, Mr. Owen Harris   22    male\n",
       "1  Allen, Mr. William Henry   35    male\n",
       "2  Bonnell, Miss. Elizabeth   58  female"
      ]
     },
     "execution_count": 3,
     "metadata": {},
     "output_type": "execute_result"
    }
   ],
   "source": [
    "df = pd.DataFrame(\n",
    "    {\n",
    "        \"Name\": [\n",
    "            \"Braund, Mr. Owen Harris\",\n",
    "            \"Allen, Mr. William Henry\",\n",
    "            \"Bonnell, Miss. Elizabeth\",\n",
    "        ],\n",
    "        \"Age\": [22, 35, 58],\n",
    "        \"Sex\": [\"male\", \"male\", \"female\"],\n",
    "    }\n",
    ")\n",
    "df"
   ]
  },
  {
   "cell_type": "markdown",
   "metadata": {},
   "source": [
    "기초 익히기"
   ]
  },
  {
   "cell_type": "code",
   "execution_count": 4,
   "metadata": {},
   "outputs": [
    {
     "data": {
      "text/plain": [
       "0    1\n",
       "1    2\n",
       "2    3\n",
       "dtype: int64"
      ]
     },
     "execution_count": 4,
     "metadata": {},
     "output_type": "execute_result"
    }
   ],
   "source": [
    "# 시리즈 - 정수값으로 생성시 자동으로 int64 (64비트 저장 가능한 정수)\n",
    "# 시리즈 생성 문법 \n",
    "\n",
    "s = pd.Series([1, 2, 3]) # 시리즈 객체 \n",
    "s"
   ]
  },
  {
   "cell_type": "code",
   "execution_count": 5,
   "metadata": {},
   "outputs": [
    {
     "name": "stdout",
     "output_type": "stream",
     "text": [
      "0    1\n",
      "1    2\n",
      "2    3\n",
      "dtype: int64\n"
     ]
    }
   ],
   "source": [
    "print(s)"
   ]
  },
  {
   "cell_type": "code",
   "execution_count": 6,
   "metadata": {},
   "outputs": [
    {
     "data": {
      "text/plain": [
       "pandas.core.series.Series"
      ]
     },
     "execution_count": 6,
     "metadata": {},
     "output_type": "execute_result"
    }
   ],
   "source": [
    "type(s)"
   ]
  },
  {
   "cell_type": "code",
   "execution_count": 7,
   "metadata": {},
   "outputs": [
    {
     "data": {
      "text/plain": [
       "array([1, 2, 3], dtype=int64)"
      ]
     },
     "execution_count": 7,
     "metadata": {},
     "output_type": "execute_result"
    }
   ],
   "source": [
    "# 시리즈 객체가 보유한 데이터\n",
    "s.values"
   ]
  },
  {
   "cell_type": "code",
   "execution_count": 8,
   "metadata": {},
   "outputs": [
    {
     "data": {
      "text/plain": [
       "RangeIndex(start=0, stop=3, step=1)"
      ]
     },
     "execution_count": 8,
     "metadata": {},
     "output_type": "execute_result"
    }
   ],
   "source": [
    "s.index"
   ]
  },
  {
   "cell_type": "code",
   "execution_count": 13,
   "metadata": {},
   "outputs": [
    {
     "data": {
      "text/plain": [
       "0    1.0\n",
       "1    NaN\n",
       "2    3.0\n",
       "3    5.0\n",
       "4    6.0\n",
       "5    NaN\n",
       "dtype: float64"
      ]
     },
     "execution_count": 13,
     "metadata": {},
     "output_type": "execute_result"
    }
   ],
   "source": [
    "# 결측치 - 데이터값이 없음을 의미, nan(Not a Number)\n",
    "# Not a Number : js에서 숫자가 아님을 의미하는 표현법\n",
    "# python에선 결측치 의미 \n",
    "\n",
    "# 명시적으로 시리즈에 결측치 적용\n",
    "# numpy api 결측치 표현 : np.nan\n",
    "\n",
    "# 데이터를 관리하기 위해서는 간혹 결측치도 임의로 생성해야 할 경우도 있음\n",
    "\n",
    "s = pd.Series([1, np.nan, 3, 5, 6, np.nan])\n",
    "s"
   ]
  },
  {
   "cell_type": "code",
   "execution_count": 15,
   "metadata": {},
   "outputs": [
    {
     "data": {
      "text/plain": [
       "4"
      ]
     },
     "execution_count": 15,
     "metadata": {},
     "output_type": "execute_result"
    }
   ],
   "source": [
    "# 시리즈가 보유하고 있는 결측치를 제외한 유효한 데이터 개수 counting\n",
    "s.count()"
   ]
  },
  {
   "cell_type": "code",
   "execution_count": 17,
   "metadata": {},
   "outputs": [
    {
     "data": {
      "text/plain": [
       "0    1.0\n",
       "1    0.0\n",
       "2    3.0\n",
       "3    5.0\n",
       "4    6.0\n",
       "5    0.0\n",
       "dtype: float64"
      ]
     },
     "execution_count": 17,
     "metadata": {},
     "output_type": "execute_result"
    }
   ],
   "source": [
    "# 가령 데이터로 연산 작업등을 수행\n",
    "# 최상의 output을 위해서 결측치 처리(삭제? 대체?(평균?, 중앙값? 최빈값?..))\n",
    "\n",
    "s.fillna(0) # 결측치를 0으로 치환한 새로운 시리즈 생성\n",
    "\n",
    "s = s.fillna(0) # 0으로 치환한 시리즈를 재 대입 \n",
    "s\n"
   ]
  },
  {
   "cell_type": "code",
   "execution_count": 18,
   "metadata": {},
   "outputs": [
    {
     "name": "stdout",
     "output_type": "stream",
     "text": [
      "0    1.0\n",
      "1    NaN\n",
      "2    3.0\n",
      "3    5.0\n",
      "4    6.0\n",
      "5    NaN\n",
      "dtype: float64\n",
      "0     1.0\n",
      "1    10.0\n",
      "2     3.0\n",
      "3     5.0\n",
      "4     6.0\n",
      "5    10.0\n",
      "dtype: float64\n"
     ]
    }
   ],
   "source": [
    "s = pd.Series([1, np.nan, 3, 5, 6, np.nan])\n",
    "print(s)\n",
    "\n",
    "s = s.fillna(10)\n",
    "print(s)"
   ]
  },
  {
   "cell_type": "code",
   "execution_count": 19,
   "metadata": {},
   "outputs": [
    {
     "name": "stdout",
     "output_type": "stream",
     "text": [
      "0    1.0\n",
      "1    NaN\n",
      "2    3.0\n",
      "3    5.0\n",
      "4    6.0\n",
      "5    NaN\n",
      "dtype: float64\n",
      "0    1.0\n",
      "2    3.0\n",
      "3    5.0\n",
      "4    6.0\n",
      "dtype: float64\n"
     ]
    }
   ],
   "source": [
    "# 결측치 삭제 : dropna()\n",
    "\n",
    "s = pd.Series([1, np.nan, 3, 5, 6, np.nan])\n",
    "print(s)\n",
    "\n",
    "s = s.dropna()\n",
    "print(s)"
   ]
  },
  {
   "cell_type": "markdown",
   "metadata": {},
   "source": [
    "## 날짜와 문자열 데이터 다루기 \n",
    "\n",
    "\n",
    "- Python의 datetime모듈\n",
    "\n",
    ">date : 연, 월, 일\n",
    "\n",
    ">time : 시간, 분, 초, 마이크로초(백만분의 1초)\n",
    "\n",
    ">datetime : date와 time요소\n",
    "\n",
    "- Pandas의 Timestamp\n",
    "\n",
    ">날짜와 시간 모두 포함 : 나노초(10억분의 1초) 단위의 정밀도\n",
    "\n",
    "\n",
    "- timedelta\n",
    "\n",
    ">날짜의 덧셈과 뺄셈에 유용\n",
    "\n"
   ]
  },
  {
   "cell_type": "markdown",
   "metadata": {},
   "source": [
    "### 특정 날짜를 기준으로 DataFrame생성해 보기 "
   ]
  },
  {
   "cell_type": "code",
   "execution_count": 20,
   "metadata": {},
   "outputs": [
    {
     "data": {
      "text/plain": [
       "DatetimeIndex(['2021-06-28', '2021-06-29', '2021-06-30', '2021-07-01',\n",
       "               '2021-07-02', '2021-07-03'],\n",
       "              dtype='datetime64[ns]', freq='D')"
      ]
     },
     "execution_count": 20,
     "metadata": {},
     "output_type": "execute_result"
    }
   ],
   "source": [
    "# 6일치의 날짜 데이터 생성\n",
    "# date_range(시작일, 범위) : 시작일로 부터 해당 범위 날짜까지 자동 생성\n",
    "\n",
    "datas = pd.date_range('20210628', periods=6)  \n",
    "datas"
   ]
  },
  {
   "cell_type": "markdown",
   "metadata": {},
   "source": [
    "**날짜를 index로 적용해서 DataFrame 객체 생성**"
   ]
  },
  {
   "cell_type": "code",
   "execution_count": 21,
   "metadata": {},
   "outputs": [
    {
     "data": {
      "text/plain": [
       "pandas.core.indexes.datetimes.DatetimeIndex"
      ]
     },
     "execution_count": 21,
     "metadata": {},
     "output_type": "execute_result"
    }
   ],
   "source": [
    "type(datas)"
   ]
  },
  {
   "cell_type": "code",
   "execution_count": 22,
   "metadata": {},
   "outputs": [
    {
     "data": {
      "text/plain": [
       "array([[ 1.8292463 , -0.53224109, -0.13750119],\n",
       "       [-0.68696963, -0.63868226, -0.46296918]])"
      ]
     },
     "execution_count": 22,
     "metadata": {},
     "output_type": "execute_result"
    }
   ],
   "source": [
    "# 6 by 4 : 6행 4열(6X4) 구조의 DataFrame 생성, 데이터는 자동 생성되는 난수값 활용\n",
    "\n",
    "# 실수의 난수 발생 함수 : 2행 3열의 실수 난수 \n",
    "np.random.randn(2, 3)"
   ]
  },
  {
   "cell_type": "code",
   "execution_count": 36,
   "metadata": {},
   "outputs": [
    {
     "data": {
      "text/plain": [
       "3"
      ]
     },
     "execution_count": 36,
     "metadata": {},
     "output_type": "execute_result"
    }
   ],
   "source": [
    "# 정수의 난수 발생 함수  : 0~11까지의 정수\n",
    "np.random.randint(12)"
   ]
  },
  {
   "cell_type": "code",
   "execution_count": 44,
   "metadata": {},
   "outputs": [
    {
     "data": {
      "text/plain": [
       "2"
      ]
     },
     "execution_count": 44,
     "metadata": {},
     "output_type": "execute_result"
    }
   ],
   "source": [
    "# randn() : 구조 포함된 난수 발생\n",
    "# randint() : 범위에 해당하는 하나의 정수값만 발생\n",
    "\n",
    "np.random.randint(2, 3)  # 2~3 이전까지의 정수 난수 발생 "
   ]
  },
  {
   "cell_type": "code",
   "execution_count": 45,
   "metadata": {},
   "outputs": [
    {
     "data": {
      "text/html": [
       "<div>\n",
       "<style scoped>\n",
       "    .dataframe tbody tr th:only-of-type {\n",
       "        vertical-align: middle;\n",
       "    }\n",
       "\n",
       "    .dataframe tbody tr th {\n",
       "        vertical-align: top;\n",
       "    }\n",
       "\n",
       "    .dataframe thead th {\n",
       "        text-align: right;\n",
       "    }\n",
       "</style>\n",
       "<table border=\"1\" class=\"dataframe\">\n",
       "  <thead>\n",
       "    <tr style=\"text-align: right;\">\n",
       "      <th></th>\n",
       "      <th>0</th>\n",
       "      <th>1</th>\n",
       "      <th>2</th>\n",
       "      <th>3</th>\n",
       "    </tr>\n",
       "  </thead>\n",
       "  <tbody>\n",
       "    <tr>\n",
       "      <th>2021-06-28</th>\n",
       "      <td>1.432620</td>\n",
       "      <td>0.647680</td>\n",
       "      <td>1.122270</td>\n",
       "      <td>0.471176</td>\n",
       "    </tr>\n",
       "    <tr>\n",
       "      <th>2021-06-29</th>\n",
       "      <td>1.306726</td>\n",
       "      <td>-0.513754</td>\n",
       "      <td>0.709449</td>\n",
       "      <td>-1.995708</td>\n",
       "    </tr>\n",
       "    <tr>\n",
       "      <th>2021-06-30</th>\n",
       "      <td>0.585513</td>\n",
       "      <td>-0.618951</td>\n",
       "      <td>-0.816847</td>\n",
       "      <td>1.004319</td>\n",
       "    </tr>\n",
       "    <tr>\n",
       "      <th>2021-07-01</th>\n",
       "      <td>0.553226</td>\n",
       "      <td>0.974284</td>\n",
       "      <td>-0.114446</td>\n",
       "      <td>0.614720</td>\n",
       "    </tr>\n",
       "    <tr>\n",
       "      <th>2021-07-02</th>\n",
       "      <td>0.241918</td>\n",
       "      <td>-0.513984</td>\n",
       "      <td>0.313991</td>\n",
       "      <td>2.682607</td>\n",
       "    </tr>\n",
       "    <tr>\n",
       "      <th>2021-07-03</th>\n",
       "      <td>-1.086599</td>\n",
       "      <td>-0.998600</td>\n",
       "      <td>-0.511486</td>\n",
       "      <td>-0.060802</td>\n",
       "    </tr>\n",
       "  </tbody>\n",
       "</table>\n",
       "</div>"
      ],
      "text/plain": [
       "                   0         1         2         3\n",
       "2021-06-28  1.432620  0.647680  1.122270  0.471176\n",
       "2021-06-29  1.306726 -0.513754  0.709449 -1.995708\n",
       "2021-06-30  0.585513 -0.618951 -0.816847  1.004319\n",
       "2021-07-01  0.553226  0.974284 -0.114446  0.614720\n",
       "2021-07-02  0.241918 -0.513984  0.313991  2.682607\n",
       "2021-07-03 -1.086599 -0.998600 -0.511486 -0.060802"
      ]
     },
     "execution_count": 45,
     "metadata": {},
     "output_type": "execute_result"
    }
   ],
   "source": [
    "# 6행 4열의 구조로 날짜를 보유한 datas 변수값을 index로 구성하는 DataFrame 객체\n",
    "\n",
    "# Pandas로 데이터 처리시에는 Numpy 모듈을 필수\n",
    "\n",
    "df = pd.DataFrame(np.random.randn(6, 4), index=datas)\n",
    "df"
   ]
  },
  {
   "cell_type": "code",
   "execution_count": 46,
   "metadata": {},
   "outputs": [
    {
     "data": {
      "text/html": [
       "<div>\n",
       "<style scoped>\n",
       "    .dataframe tbody tr th:only-of-type {\n",
       "        vertical-align: middle;\n",
       "    }\n",
       "\n",
       "    .dataframe tbody tr th {\n",
       "        vertical-align: top;\n",
       "    }\n",
       "\n",
       "    .dataframe thead th {\n",
       "        text-align: right;\n",
       "    }\n",
       "</style>\n",
       "<table border=\"1\" class=\"dataframe\">\n",
       "  <thead>\n",
       "    <tr style=\"text-align: right;\">\n",
       "      <th></th>\n",
       "      <th>a</th>\n",
       "      <th>b</th>\n",
       "      <th>c</th>\n",
       "      <th>d</th>\n",
       "    </tr>\n",
       "  </thead>\n",
       "  <tbody>\n",
       "    <tr>\n",
       "      <th>2021-06-28</th>\n",
       "      <td>-0.431592</td>\n",
       "      <td>0.297871</td>\n",
       "      <td>1.224573</td>\n",
       "      <td>-0.007689</td>\n",
       "    </tr>\n",
       "    <tr>\n",
       "      <th>2021-06-29</th>\n",
       "      <td>0.115368</td>\n",
       "      <td>-1.150172</td>\n",
       "      <td>-0.236769</td>\n",
       "      <td>0.390818</td>\n",
       "    </tr>\n",
       "    <tr>\n",
       "      <th>2021-06-30</th>\n",
       "      <td>-0.599372</td>\n",
       "      <td>-0.669622</td>\n",
       "      <td>0.901317</td>\n",
       "      <td>-0.488415</td>\n",
       "    </tr>\n",
       "    <tr>\n",
       "      <th>2021-07-01</th>\n",
       "      <td>1.332254</td>\n",
       "      <td>1.688976</td>\n",
       "      <td>-1.733766</td>\n",
       "      <td>-1.410788</td>\n",
       "    </tr>\n",
       "    <tr>\n",
       "      <th>2021-07-02</th>\n",
       "      <td>0.796346</td>\n",
       "      <td>-1.274264</td>\n",
       "      <td>-0.728906</td>\n",
       "      <td>-0.861221</td>\n",
       "    </tr>\n",
       "    <tr>\n",
       "      <th>2021-07-03</th>\n",
       "      <td>-1.551994</td>\n",
       "      <td>0.260794</td>\n",
       "      <td>-0.083104</td>\n",
       "      <td>-0.355433</td>\n",
       "    </tr>\n",
       "  </tbody>\n",
       "</table>\n",
       "</div>"
      ],
      "text/plain": [
       "                   a         b         c         d\n",
       "2021-06-28 -0.431592  0.297871  1.224573 -0.007689\n",
       "2021-06-29  0.115368 -1.150172 -0.236769  0.390818\n",
       "2021-06-30 -0.599372 -0.669622  0.901317 -0.488415\n",
       "2021-07-01  1.332254  1.688976 -1.733766 -1.410788\n",
       "2021-07-02  0.796346 -1.274264 -0.728906 -0.861221\n",
       "2021-07-03 -1.551994  0.260794 -0.083104 -0.355433"
      ]
     },
     "execution_count": 46,
     "metadata": {},
     "output_type": "execute_result"
    }
   ],
   "source": [
    "# 컬럼명 가공\n",
    "\n",
    "df = pd.DataFrame(np.random.randn(6, 4), index=datas,\n",
    "                  columns=['a', 'b', 'c', 'd'])\n",
    "df"
   ]
  },
  {
   "cell_type": "code",
   "execution_count": 50,
   "metadata": {},
   "outputs": [
    {
     "data": {
      "text/plain": [
       "array([[-0.43159195,  0.29787079,  1.22457282, -0.00768927],\n",
       "       [ 0.11536847, -1.15017203, -0.23676887,  0.39081832],\n",
       "       [-0.59937192, -0.66962205,  0.90131739, -0.48841526],\n",
       "       [ 1.33225381,  1.68897636, -1.73376626, -1.41078796],\n",
       "       [ 0.79634563, -1.27426417, -0.7289057 , -0.86122147],\n",
       "       [-1.55199389,  0.2607942 , -0.08310442, -0.35543273]])"
      ]
     },
     "execution_count": 50,
     "metadata": {},
     "output_type": "execute_result"
    }
   ],
   "source": [
    "# df의 value\n",
    "df.values"
   ]
  },
  {
   "cell_type": "code",
   "execution_count": 51,
   "metadata": {},
   "outputs": [
    {
     "data": {
      "text/plain": [
       "DatetimeIndex(['2021-06-28', '2021-06-29', '2021-06-30', '2021-07-01',\n",
       "               '2021-07-02', '2021-07-03'],\n",
       "              dtype='datetime64[ns]', freq='D')"
      ]
     },
     "execution_count": 51,
     "metadata": {},
     "output_type": "execute_result"
    }
   ],
   "source": [
    "# df의 index\n",
    "df.index"
   ]
  },
  {
   "cell_type": "code",
   "execution_count": 52,
   "metadata": {},
   "outputs": [
    {
     "data": {
      "text/plain": [
       "Index(['a', 'b', 'c', 'd'], dtype='object')"
      ]
     },
     "execution_count": 52,
     "metadata": {},
     "output_type": "execute_result"
    }
   ],
   "source": [
    "# df의 columns\n",
    "df.columns"
   ]
  },
  {
   "cell_type": "code",
   "execution_count": 53,
   "metadata": {},
   "outputs": [
    {
     "name": "stdout",
     "output_type": "stream",
     "text": [
      "<class 'pandas.core.frame.DataFrame'>\n",
      "DatetimeIndex: 6 entries, 2021-06-28 to 2021-07-03\n",
      "Freq: D\n",
      "Data columns (total 4 columns):\n",
      " #   Column  Non-Null Count  Dtype  \n",
      "---  ------  --------------  -----  \n",
      " 0   a       6 non-null      float64\n",
      " 1   b       6 non-null      float64\n",
      " 2   c       6 non-null      float64\n",
      " 3   d       6 non-null      float64\n",
      "dtypes: float64(4)\n",
      "memory usage: 240.0 bytes\n"
     ]
    }
   ],
   "source": [
    "# 차후에 ML/DL 시에 데이터 구조를 한눈에 자주 봐야 함\n",
    "\n",
    "df.info()"
   ]
  },
  {
   "cell_type": "code",
   "execution_count": 54,
   "metadata": {},
   "outputs": [
    {
     "data": {
      "text/html": [
       "<div>\n",
       "<style scoped>\n",
       "    .dataframe tbody tr th:only-of-type {\n",
       "        vertical-align: middle;\n",
       "    }\n",
       "\n",
       "    .dataframe tbody tr th {\n",
       "        vertical-align: top;\n",
       "    }\n",
       "\n",
       "    .dataframe thead th {\n",
       "        text-align: right;\n",
       "    }\n",
       "</style>\n",
       "<table border=\"1\" class=\"dataframe\">\n",
       "  <thead>\n",
       "    <tr style=\"text-align: right;\">\n",
       "      <th></th>\n",
       "      <th>a</th>\n",
       "      <th>b</th>\n",
       "      <th>c</th>\n",
       "      <th>d</th>\n",
       "    </tr>\n",
       "  </thead>\n",
       "  <tbody>\n",
       "    <tr>\n",
       "      <th>count</th>\n",
       "      <td>6.000000</td>\n",
       "      <td>6.000000</td>\n",
       "      <td>6.000000</td>\n",
       "      <td>6.000000</td>\n",
       "    </tr>\n",
       "    <tr>\n",
       "      <th>mean</th>\n",
       "      <td>-0.056498</td>\n",
       "      <td>-0.141069</td>\n",
       "      <td>-0.109443</td>\n",
       "      <td>-0.455455</td>\n",
       "    </tr>\n",
       "    <tr>\n",
       "      <th>std</th>\n",
       "      <td>1.035126</td>\n",
       "      <td>1.121162</td>\n",
       "      <td>1.080768</td>\n",
       "      <td>0.633257</td>\n",
       "    </tr>\n",
       "    <tr>\n",
       "      <th>min</th>\n",
       "      <td>-1.551994</td>\n",
       "      <td>-1.274264</td>\n",
       "      <td>-1.733766</td>\n",
       "      <td>-1.410788</td>\n",
       "    </tr>\n",
       "    <tr>\n",
       "      <th>25%</th>\n",
       "      <td>-0.557427</td>\n",
       "      <td>-1.030035</td>\n",
       "      <td>-0.605871</td>\n",
       "      <td>-0.768020</td>\n",
       "    </tr>\n",
       "    <tr>\n",
       "      <th>50%</th>\n",
       "      <td>-0.158112</td>\n",
       "      <td>-0.204414</td>\n",
       "      <td>-0.159937</td>\n",
       "      <td>-0.421924</td>\n",
       "    </tr>\n",
       "    <tr>\n",
       "      <th>75%</th>\n",
       "      <td>0.626101</td>\n",
       "      <td>0.288602</td>\n",
       "      <td>0.655212</td>\n",
       "      <td>-0.094625</td>\n",
       "    </tr>\n",
       "    <tr>\n",
       "      <th>max</th>\n",
       "      <td>1.332254</td>\n",
       "      <td>1.688976</td>\n",
       "      <td>1.224573</td>\n",
       "      <td>0.390818</td>\n",
       "    </tr>\n",
       "  </tbody>\n",
       "</table>\n",
       "</div>"
      ],
      "text/plain": [
       "              a         b         c         d\n",
       "count  6.000000  6.000000  6.000000  6.000000\n",
       "mean  -0.056498 -0.141069 -0.109443 -0.455455\n",
       "std    1.035126  1.121162  1.080768  0.633257\n",
       "min   -1.551994 -1.274264 -1.733766 -1.410788\n",
       "25%   -0.557427 -1.030035 -0.605871 -0.768020\n",
       "50%   -0.158112 -0.204414 -0.159937 -0.421924\n",
       "75%    0.626101  0.288602  0.655212 -0.094625\n",
       "max    1.332254  1.688976  1.224573  0.390818"
      ]
     },
     "execution_count": 54,
     "metadata": {},
     "output_type": "execute_result"
    }
   ],
   "source": [
    "# 기초 통계 확인 가능한 함수 \n",
    "# 가령 빌게이츠  급여가 포함된 동네 주민의 급여들이 활용 데이터라 할 경우\n",
    "# 이상치? 결측치? 확인을 위해서 기초 통계를 보고 max()에서 빌게이츠 급여와 75% 지정 갭이 너무 \n",
    "# 크면 이상하다(이상치)로 간주하는 분석 기법도 있음\n",
    "\n",
    "df.describe()"
   ]
  },
  {
   "cell_type": "code",
   "execution_count": 56,
   "metadata": {},
   "outputs": [
    {
     "data": {
      "text/html": [
       "<div>\n",
       "<style scoped>\n",
       "    .dataframe tbody tr th:only-of-type {\n",
       "        vertical-align: middle;\n",
       "    }\n",
       "\n",
       "    .dataframe tbody tr th {\n",
       "        vertical-align: top;\n",
       "    }\n",
       "\n",
       "    .dataframe thead th {\n",
       "        text-align: right;\n",
       "    }\n",
       "</style>\n",
       "<table border=\"1\" class=\"dataframe\">\n",
       "  <thead>\n",
       "    <tr style=\"text-align: right;\">\n",
       "      <th></th>\n",
       "      <th>a</th>\n",
       "      <th>b</th>\n",
       "      <th>c</th>\n",
       "      <th>d</th>\n",
       "    </tr>\n",
       "  </thead>\n",
       "  <tbody>\n",
       "    <tr>\n",
       "      <th>2021-06-28</th>\n",
       "      <td>0.592157</td>\n",
       "      <td>-1.119150</td>\n",
       "      <td>0.632726</td>\n",
       "      <td>0.638602</td>\n",
       "    </tr>\n",
       "    <tr>\n",
       "      <th>2021-06-29</th>\n",
       "      <td>0.441203</td>\n",
       "      <td>-1.843905</td>\n",
       "      <td>-1.344676</td>\n",
       "      <td>-0.975196</td>\n",
       "    </tr>\n",
       "    <tr>\n",
       "      <th>2021-06-30</th>\n",
       "      <td>-0.161211</td>\n",
       "      <td>-1.745124</td>\n",
       "      <td>1.054624</td>\n",
       "      <td>1.206741</td>\n",
       "    </tr>\n",
       "    <tr>\n",
       "      <th>2021-07-01</th>\n",
       "      <td>-0.426858</td>\n",
       "      <td>-0.311244</td>\n",
       "      <td>0.045576</td>\n",
       "      <td>-0.697423</td>\n",
       "    </tr>\n",
       "    <tr>\n",
       "      <th>2021-07-02</th>\n",
       "      <td>-0.771526</td>\n",
       "      <td>0.964844</td>\n",
       "      <td>0.554761</td>\n",
       "      <td>-0.449735</td>\n",
       "    </tr>\n",
       "    <tr>\n",
       "      <th>2021-07-03</th>\n",
       "      <td>-0.352430</td>\n",
       "      <td>0.956151</td>\n",
       "      <td>0.085954</td>\n",
       "      <td>1.197310</td>\n",
       "    </tr>\n",
       "  </tbody>\n",
       "</table>\n",
       "</div>"
      ],
      "text/plain": [
       "                   a         b         c         d\n",
       "2021-06-28  0.592157 -1.119150  0.632726  0.638602\n",
       "2021-06-29  0.441203 -1.843905 -1.344676 -0.975196\n",
       "2021-06-30 -0.161211 -1.745124  1.054624  1.206741\n",
       "2021-07-01 -0.426858 -0.311244  0.045576 -0.697423\n",
       "2021-07-02 -0.771526  0.964844  0.554761 -0.449735\n",
       "2021-07-03 -0.352430  0.956151  0.085954  1.197310"
      ]
     },
     "execution_count": 56,
     "metadata": {},
     "output_type": "execute_result"
    }
   ],
   "source": [
    "df = pd.DataFrame(np.random.randn(6, 4), index=datas,\n",
    "                  columns=['a', 'b', 'c', 'd'])\n",
    "df"
   ]
  },
  {
   "cell_type": "code",
   "execution_count": 57,
   "metadata": {},
   "outputs": [
    {
     "data": {
      "text/html": [
       "<div>\n",
       "<style scoped>\n",
       "    .dataframe tbody tr th:only-of-type {\n",
       "        vertical-align: middle;\n",
       "    }\n",
       "\n",
       "    .dataframe tbody tr th {\n",
       "        vertical-align: top;\n",
       "    }\n",
       "\n",
       "    .dataframe thead th {\n",
       "        text-align: right;\n",
       "    }\n",
       "</style>\n",
       "<table border=\"1\" class=\"dataframe\">\n",
       "  <thead>\n",
       "    <tr style=\"text-align: right;\">\n",
       "      <th></th>\n",
       "      <th>a</th>\n",
       "      <th>b</th>\n",
       "      <th>c</th>\n",
       "      <th>d</th>\n",
       "    </tr>\n",
       "  </thead>\n",
       "  <tbody>\n",
       "    <tr>\n",
       "      <th>2021-06-29</th>\n",
       "      <td>0.441203</td>\n",
       "      <td>-1.843905</td>\n",
       "      <td>-1.344676</td>\n",
       "      <td>-0.975196</td>\n",
       "    </tr>\n",
       "    <tr>\n",
       "      <th>2021-06-30</th>\n",
       "      <td>-0.161211</td>\n",
       "      <td>-1.745124</td>\n",
       "      <td>1.054624</td>\n",
       "      <td>1.206741</td>\n",
       "    </tr>\n",
       "    <tr>\n",
       "      <th>2021-06-28</th>\n",
       "      <td>0.592157</td>\n",
       "      <td>-1.119150</td>\n",
       "      <td>0.632726</td>\n",
       "      <td>0.638602</td>\n",
       "    </tr>\n",
       "    <tr>\n",
       "      <th>2021-07-01</th>\n",
       "      <td>-0.426858</td>\n",
       "      <td>-0.311244</td>\n",
       "      <td>0.045576</td>\n",
       "      <td>-0.697423</td>\n",
       "    </tr>\n",
       "    <tr>\n",
       "      <th>2021-07-03</th>\n",
       "      <td>-0.352430</td>\n",
       "      <td>0.956151</td>\n",
       "      <td>0.085954</td>\n",
       "      <td>1.197310</td>\n",
       "    </tr>\n",
       "    <tr>\n",
       "      <th>2021-07-02</th>\n",
       "      <td>-0.771526</td>\n",
       "      <td>0.964844</td>\n",
       "      <td>0.554761</td>\n",
       "      <td>-0.449735</td>\n",
       "    </tr>\n",
       "  </tbody>\n",
       "</table>\n",
       "</div>"
      ],
      "text/plain": [
       "                   a         b         c         d\n",
       "2021-06-29  0.441203 -1.843905 -1.344676 -0.975196\n",
       "2021-06-30 -0.161211 -1.745124  1.054624  1.206741\n",
       "2021-06-28  0.592157 -1.119150  0.632726  0.638602\n",
       "2021-07-01 -0.426858 -0.311244  0.045576 -0.697423\n",
       "2021-07-03 -0.352430  0.956151  0.085954  1.197310\n",
       "2021-07-02 -0.771526  0.964844  0.554761 -0.449735"
      ]
     },
     "execution_count": 57,
     "metadata": {},
     "output_type": "execute_result"
    }
   ],
   "source": [
    "# b 컬럼에 대한 오름차순 정렬 설정\n",
    "# 오름차순 : ascending=True\n",
    "# 내림차순 : ascending=False\n",
    "\n",
    "df.sort_values(by='b', ascending=True)"
   ]
  },
  {
   "cell_type": "code",
   "execution_count": 60,
   "metadata": {},
   "outputs": [
    {
     "data": {
      "text/plain": [
       "2021-06-28    0.592157\n",
       "2021-06-29    0.441203\n",
       "2021-06-30   -0.161211\n",
       "2021-07-01   -0.426858\n",
       "2021-07-02   -0.771526\n",
       "2021-07-03   -0.352430\n",
       "Freq: D, Name: a, dtype: float64"
      ]
     },
     "execution_count": 60,
     "metadata": {},
     "output_type": "execute_result"
    }
   ],
   "source": [
    "# 특정 컬럼들 값만 도출해 보기 \n",
    "# [] 연산자와 컬럼명으로 컬럼 도출\n",
    "\n",
    "df['a']"
   ]
  },
  {
   "cell_type": "code",
   "execution_count": 63,
   "metadata": {},
   "outputs": [
    {
     "data": {
      "text/plain": [
       "2021-06-28    0.592157\n",
       "2021-06-29    0.441203\n",
       "2021-06-30   -0.161211\n",
       "2021-07-01   -0.426858\n",
       "2021-07-02   -0.771526\n",
       "2021-07-03   -0.352430\n",
       "Freq: D, Name: a, dtype: float64"
      ]
     },
     "execution_count": 63,
     "metadata": {},
     "output_type": "execute_result"
    }
   ],
   "source": [
    "# dot 연산자를 활용하여 특정 컬럼 검색\n",
    "\n",
    "df.a"
   ]
  },
  {
   "cell_type": "code",
   "execution_count": 61,
   "metadata": {},
   "outputs": [
    {
     "ename": "KeyError",
     "evalue": "('a', 'b')",
     "output_type": "error",
     "traceback": [
      "\u001b[1;31m---------------------------------------------------------------------------\u001b[0m",
      "\u001b[1;31mKeyError\u001b[0m                                  Traceback (most recent call last)",
      "\u001b[1;32m~\\anaconda3\\lib\\site-packages\\pandas\\core\\indexes\\base.py\u001b[0m in \u001b[0;36mget_loc\u001b[1;34m(self, key, method, tolerance)\u001b[0m\n\u001b[0;32m   2894\u001b[0m             \u001b[1;32mtry\u001b[0m\u001b[1;33m:\u001b[0m\u001b[1;33m\u001b[0m\u001b[1;33m\u001b[0m\u001b[0m\n\u001b[1;32m-> 2895\u001b[1;33m                 \u001b[1;32mreturn\u001b[0m \u001b[0mself\u001b[0m\u001b[1;33m.\u001b[0m\u001b[0m_engine\u001b[0m\u001b[1;33m.\u001b[0m\u001b[0mget_loc\u001b[0m\u001b[1;33m(\u001b[0m\u001b[0mcasted_key\u001b[0m\u001b[1;33m)\u001b[0m\u001b[1;33m\u001b[0m\u001b[1;33m\u001b[0m\u001b[0m\n\u001b[0m\u001b[0;32m   2896\u001b[0m             \u001b[1;32mexcept\u001b[0m \u001b[0mKeyError\u001b[0m \u001b[1;32mas\u001b[0m \u001b[0merr\u001b[0m\u001b[1;33m:\u001b[0m\u001b[1;33m\u001b[0m\u001b[1;33m\u001b[0m\u001b[0m\n",
      "\u001b[1;32mpandas\\_libs\\index.pyx\u001b[0m in \u001b[0;36mpandas._libs.index.IndexEngine.get_loc\u001b[1;34m()\u001b[0m\n",
      "\u001b[1;32mpandas\\_libs\\index.pyx\u001b[0m in \u001b[0;36mpandas._libs.index.IndexEngine.get_loc\u001b[1;34m()\u001b[0m\n",
      "\u001b[1;32mpandas\\_libs\\hashtable_class_helper.pxi\u001b[0m in \u001b[0;36mpandas._libs.hashtable.PyObjectHashTable.get_item\u001b[1;34m()\u001b[0m\n",
      "\u001b[1;32mpandas\\_libs\\hashtable_class_helper.pxi\u001b[0m in \u001b[0;36mpandas._libs.hashtable.PyObjectHashTable.get_item\u001b[1;34m()\u001b[0m\n",
      "\u001b[1;31mKeyError\u001b[0m: ('a', 'b')",
      "\nThe above exception was the direct cause of the following exception:\n",
      "\u001b[1;31mKeyError\u001b[0m                                  Traceback (most recent call last)",
      "\u001b[1;32m<ipython-input-61-8fa5ad5a23e2>\u001b[0m in \u001b[0;36m<module>\u001b[1;34m\u001b[0m\n\u001b[1;32m----> 1\u001b[1;33m \u001b[0mdf\u001b[0m\u001b[1;33m[\u001b[0m\u001b[1;34m'a'\u001b[0m\u001b[1;33m,\u001b[0m \u001b[1;34m'b'\u001b[0m\u001b[1;33m]\u001b[0m\u001b[1;33m\u001b[0m\u001b[1;33m\u001b[0m\u001b[0m\n\u001b[0m",
      "\u001b[1;32m~\\anaconda3\\lib\\site-packages\\pandas\\core\\frame.py\u001b[0m in \u001b[0;36m__getitem__\u001b[1;34m(self, key)\u001b[0m\n\u001b[0;32m   2900\u001b[0m             \u001b[1;32mif\u001b[0m \u001b[0mself\u001b[0m\u001b[1;33m.\u001b[0m\u001b[0mcolumns\u001b[0m\u001b[1;33m.\u001b[0m\u001b[0mnlevels\u001b[0m \u001b[1;33m>\u001b[0m \u001b[1;36m1\u001b[0m\u001b[1;33m:\u001b[0m\u001b[1;33m\u001b[0m\u001b[1;33m\u001b[0m\u001b[0m\n\u001b[0;32m   2901\u001b[0m                 \u001b[1;32mreturn\u001b[0m \u001b[0mself\u001b[0m\u001b[1;33m.\u001b[0m\u001b[0m_getitem_multilevel\u001b[0m\u001b[1;33m(\u001b[0m\u001b[0mkey\u001b[0m\u001b[1;33m)\u001b[0m\u001b[1;33m\u001b[0m\u001b[1;33m\u001b[0m\u001b[0m\n\u001b[1;32m-> 2902\u001b[1;33m             \u001b[0mindexer\u001b[0m \u001b[1;33m=\u001b[0m \u001b[0mself\u001b[0m\u001b[1;33m.\u001b[0m\u001b[0mcolumns\u001b[0m\u001b[1;33m.\u001b[0m\u001b[0mget_loc\u001b[0m\u001b[1;33m(\u001b[0m\u001b[0mkey\u001b[0m\u001b[1;33m)\u001b[0m\u001b[1;33m\u001b[0m\u001b[1;33m\u001b[0m\u001b[0m\n\u001b[0m\u001b[0;32m   2903\u001b[0m             \u001b[1;32mif\u001b[0m \u001b[0mis_integer\u001b[0m\u001b[1;33m(\u001b[0m\u001b[0mindexer\u001b[0m\u001b[1;33m)\u001b[0m\u001b[1;33m:\u001b[0m\u001b[1;33m\u001b[0m\u001b[1;33m\u001b[0m\u001b[0m\n\u001b[0;32m   2904\u001b[0m                 \u001b[0mindexer\u001b[0m \u001b[1;33m=\u001b[0m \u001b[1;33m[\u001b[0m\u001b[0mindexer\u001b[0m\u001b[1;33m]\u001b[0m\u001b[1;33m\u001b[0m\u001b[1;33m\u001b[0m\u001b[0m\n",
      "\u001b[1;32m~\\anaconda3\\lib\\site-packages\\pandas\\core\\indexes\\base.py\u001b[0m in \u001b[0;36mget_loc\u001b[1;34m(self, key, method, tolerance)\u001b[0m\n\u001b[0;32m   2895\u001b[0m                 \u001b[1;32mreturn\u001b[0m \u001b[0mself\u001b[0m\u001b[1;33m.\u001b[0m\u001b[0m_engine\u001b[0m\u001b[1;33m.\u001b[0m\u001b[0mget_loc\u001b[0m\u001b[1;33m(\u001b[0m\u001b[0mcasted_key\u001b[0m\u001b[1;33m)\u001b[0m\u001b[1;33m\u001b[0m\u001b[1;33m\u001b[0m\u001b[0m\n\u001b[0;32m   2896\u001b[0m             \u001b[1;32mexcept\u001b[0m \u001b[0mKeyError\u001b[0m \u001b[1;32mas\u001b[0m \u001b[0merr\u001b[0m\u001b[1;33m:\u001b[0m\u001b[1;33m\u001b[0m\u001b[1;33m\u001b[0m\u001b[0m\n\u001b[1;32m-> 2897\u001b[1;33m                 \u001b[1;32mraise\u001b[0m \u001b[0mKeyError\u001b[0m\u001b[1;33m(\u001b[0m\u001b[0mkey\u001b[0m\u001b[1;33m)\u001b[0m \u001b[1;32mfrom\u001b[0m \u001b[0merr\u001b[0m\u001b[1;33m\u001b[0m\u001b[1;33m\u001b[0m\u001b[0m\n\u001b[0m\u001b[0;32m   2898\u001b[0m \u001b[1;33m\u001b[0m\u001b[0m\n\u001b[0;32m   2899\u001b[0m         \u001b[1;32mif\u001b[0m \u001b[0mtolerance\u001b[0m \u001b[1;32mis\u001b[0m \u001b[1;32mnot\u001b[0m \u001b[1;32mNone\u001b[0m\u001b[1;33m:\u001b[0m\u001b[1;33m\u001b[0m\u001b[1;33m\u001b[0m\u001b[0m\n",
      "\u001b[1;31mKeyError\u001b[0m: ('a', 'b')"
     ]
    }
   ],
   "source": [
    "df['a', 'b']  # error"
   ]
  },
  {
   "cell_type": "code",
   "execution_count": 62,
   "metadata": {},
   "outputs": [
    {
     "data": {
      "text/html": [
       "<div>\n",
       "<style scoped>\n",
       "    .dataframe tbody tr th:only-of-type {\n",
       "        vertical-align: middle;\n",
       "    }\n",
       "\n",
       "    .dataframe tbody tr th {\n",
       "        vertical-align: top;\n",
       "    }\n",
       "\n",
       "    .dataframe thead th {\n",
       "        text-align: right;\n",
       "    }\n",
       "</style>\n",
       "<table border=\"1\" class=\"dataframe\">\n",
       "  <thead>\n",
       "    <tr style=\"text-align: right;\">\n",
       "      <th></th>\n",
       "      <th>a</th>\n",
       "      <th>b</th>\n",
       "    </tr>\n",
       "  </thead>\n",
       "  <tbody>\n",
       "    <tr>\n",
       "      <th>2021-06-28</th>\n",
       "      <td>0.592157</td>\n",
       "      <td>-1.119150</td>\n",
       "    </tr>\n",
       "    <tr>\n",
       "      <th>2021-06-29</th>\n",
       "      <td>0.441203</td>\n",
       "      <td>-1.843905</td>\n",
       "    </tr>\n",
       "    <tr>\n",
       "      <th>2021-06-30</th>\n",
       "      <td>-0.161211</td>\n",
       "      <td>-1.745124</td>\n",
       "    </tr>\n",
       "    <tr>\n",
       "      <th>2021-07-01</th>\n",
       "      <td>-0.426858</td>\n",
       "      <td>-0.311244</td>\n",
       "    </tr>\n",
       "    <tr>\n",
       "      <th>2021-07-02</th>\n",
       "      <td>-0.771526</td>\n",
       "      <td>0.964844</td>\n",
       "    </tr>\n",
       "    <tr>\n",
       "      <th>2021-07-03</th>\n",
       "      <td>-0.352430</td>\n",
       "      <td>0.956151</td>\n",
       "    </tr>\n",
       "  </tbody>\n",
       "</table>\n",
       "</div>"
      ],
      "text/plain": [
       "                   a         b\n",
       "2021-06-28  0.592157 -1.119150\n",
       "2021-06-29  0.441203 -1.843905\n",
       "2021-06-30 -0.161211 -1.745124\n",
       "2021-07-01 -0.426858 -0.311244\n",
       "2021-07-02 -0.771526  0.964844\n",
       "2021-07-03 -0.352430  0.956151"
      ]
     },
     "execution_count": 62,
     "metadata": {},
     "output_type": "execute_result"
    }
   ],
   "source": [
    "# 하나 이상의 컬럼들은 list 구조로  적용\n",
    "# df[] : 특정 컬럼을 도출함을 의미하는 문법\n",
    "# ['a', 'b'] - a와 b 컬럼 의미 \n",
    "# 다중 컬럼 검색시에는 반드시 list로 변환해서 작업 \n",
    "\n",
    "df[ ['a', 'b'] ]"
   ]
  },
  {
   "cell_type": "code",
   "execution_count": 64,
   "metadata": {},
   "outputs": [
    {
     "data": {
      "text/plain": [
       "DatetimeIndex(['2021-06-28', '2021-06-29', '2021-06-30', '2021-07-01',\n",
       "               '2021-07-02', '2021-07-03'],\n",
       "              dtype='datetime64[ns]', freq='D')"
      ]
     },
     "execution_count": 64,
     "metadata": {},
     "output_type": "execute_result"
    }
   ],
   "source": [
    "# index로 데이터 검색(도출)\n",
    "df.index"
   ]
  },
  {
   "cell_type": "code",
   "execution_count": 66,
   "metadata": {},
   "outputs": [
    {
     "data": {
      "text/html": [
       "<div>\n",
       "<style scoped>\n",
       "    .dataframe tbody tr th:only-of-type {\n",
       "        vertical-align: middle;\n",
       "    }\n",
       "\n",
       "    .dataframe tbody tr th {\n",
       "        vertical-align: top;\n",
       "    }\n",
       "\n",
       "    .dataframe thead th {\n",
       "        text-align: right;\n",
       "    }\n",
       "</style>\n",
       "<table border=\"1\" class=\"dataframe\">\n",
       "  <thead>\n",
       "    <tr style=\"text-align: right;\">\n",
       "      <th></th>\n",
       "      <th>a</th>\n",
       "      <th>b</th>\n",
       "      <th>c</th>\n",
       "      <th>d</th>\n",
       "    </tr>\n",
       "  </thead>\n",
       "  <tbody>\n",
       "    <tr>\n",
       "      <th>2021-06-28</th>\n",
       "      <td>0.592157</td>\n",
       "      <td>-1.119150</td>\n",
       "      <td>0.632726</td>\n",
       "      <td>0.638602</td>\n",
       "    </tr>\n",
       "    <tr>\n",
       "      <th>2021-06-29</th>\n",
       "      <td>0.441203</td>\n",
       "      <td>-1.843905</td>\n",
       "      <td>-1.344676</td>\n",
       "      <td>-0.975196</td>\n",
       "    </tr>\n",
       "    <tr>\n",
       "      <th>2021-06-30</th>\n",
       "      <td>-0.161211</td>\n",
       "      <td>-1.745124</td>\n",
       "      <td>1.054624</td>\n",
       "      <td>1.206741</td>\n",
       "    </tr>\n",
       "    <tr>\n",
       "      <th>2021-07-01</th>\n",
       "      <td>-0.426858</td>\n",
       "      <td>-0.311244</td>\n",
       "      <td>0.045576</td>\n",
       "      <td>-0.697423</td>\n",
       "    </tr>\n",
       "  </tbody>\n",
       "</table>\n",
       "</div>"
      ],
      "text/plain": [
       "                   a         b         c         d\n",
       "2021-06-28  0.592157 -1.119150  0.632726  0.638602\n",
       "2021-06-29  0.441203 -1.843905 -1.344676 -0.975196\n",
       "2021-06-30 -0.161211 -1.745124  1.054624  1.206741\n",
       "2021-07-01 -0.426858 -0.311244  0.045576 -0.697423"
      ]
     },
     "execution_count": 66,
     "metadata": {},
     "output_type": "execute_result"
    }
   ],
   "source": [
    "# : 기준으로 slicing 해서 데이터 도출\n",
    "# index 명으로 \n",
    "\n",
    "df['2021-06-28':'2021-07-01']  # 시작일~끝일자"
   ]
  },
  {
   "cell_type": "code",
   "execution_count": 67,
   "metadata": {},
   "outputs": [
    {
     "data": {
      "text/html": [
       "<div>\n",
       "<style scoped>\n",
       "    .dataframe tbody tr th:only-of-type {\n",
       "        vertical-align: middle;\n",
       "    }\n",
       "\n",
       "    .dataframe tbody tr th {\n",
       "        vertical-align: top;\n",
       "    }\n",
       "\n",
       "    .dataframe thead th {\n",
       "        text-align: right;\n",
       "    }\n",
       "</style>\n",
       "<table border=\"1\" class=\"dataframe\">\n",
       "  <thead>\n",
       "    <tr style=\"text-align: right;\">\n",
       "      <th></th>\n",
       "      <th>a</th>\n",
       "      <th>b</th>\n",
       "      <th>c</th>\n",
       "      <th>d</th>\n",
       "    </tr>\n",
       "  </thead>\n",
       "  <tbody>\n",
       "    <tr>\n",
       "      <th>2021-06-28</th>\n",
       "      <td>0.592157</td>\n",
       "      <td>-1.119150</td>\n",
       "      <td>0.632726</td>\n",
       "      <td>0.638602</td>\n",
       "    </tr>\n",
       "    <tr>\n",
       "      <th>2021-06-29</th>\n",
       "      <td>0.441203</td>\n",
       "      <td>-1.843905</td>\n",
       "      <td>-1.344676</td>\n",
       "      <td>-0.975196</td>\n",
       "    </tr>\n",
       "    <tr>\n",
       "      <th>2021-06-30</th>\n",
       "      <td>-0.161211</td>\n",
       "      <td>-1.745124</td>\n",
       "      <td>1.054624</td>\n",
       "      <td>1.206741</td>\n",
       "    </tr>\n",
       "    <tr>\n",
       "      <th>2021-07-01</th>\n",
       "      <td>-0.426858</td>\n",
       "      <td>-0.311244</td>\n",
       "      <td>0.045576</td>\n",
       "      <td>-0.697423</td>\n",
       "    </tr>\n",
       "  </tbody>\n",
       "</table>\n",
       "</div>"
      ],
      "text/plain": [
       "                   a         b         c         d\n",
       "2021-06-28  0.592157 -1.119150  0.632726  0.638602\n",
       "2021-06-29  0.441203 -1.843905 -1.344676 -0.975196\n",
       "2021-06-30 -0.161211 -1.745124  1.054624  1.206741\n",
       "2021-07-01 -0.426858 -0.311244  0.045576 -0.697423"
      ]
     },
     "execution_count": 67,
     "metadata": {},
     "output_type": "execute_result"
    }
   ],
   "source": [
    "# index의 위치값인 순번(index)으로 데이터 도출\n",
    "# 0 부터 4-1 즉 4이전까지 의미 \n",
    "df[0:4]  "
   ]
  },
  {
   "cell_type": "code",
   "execution_count": 71,
   "metadata": {},
   "outputs": [
    {
     "data": {
      "text/html": [
       "<div>\n",
       "<style scoped>\n",
       "    .dataframe tbody tr th:only-of-type {\n",
       "        vertical-align: middle;\n",
       "    }\n",
       "\n",
       "    .dataframe tbody tr th {\n",
       "        vertical-align: top;\n",
       "    }\n",
       "\n",
       "    .dataframe thead th {\n",
       "        text-align: right;\n",
       "    }\n",
       "</style>\n",
       "<table border=\"1\" class=\"dataframe\">\n",
       "  <thead>\n",
       "    <tr style=\"text-align: right;\">\n",
       "      <th></th>\n",
       "      <th>a</th>\n",
       "      <th>b</th>\n",
       "    </tr>\n",
       "  </thead>\n",
       "  <tbody>\n",
       "    <tr>\n",
       "      <th>2021-06-28</th>\n",
       "      <td>0.592157</td>\n",
       "      <td>-1.119150</td>\n",
       "    </tr>\n",
       "    <tr>\n",
       "      <th>2021-06-29</th>\n",
       "      <td>0.441203</td>\n",
       "      <td>-1.843905</td>\n",
       "    </tr>\n",
       "  </tbody>\n",
       "</table>\n",
       "</div>"
      ],
      "text/plain": [
       "                   a         b\n",
       "2021-06-28  0.592157 -1.119150\n",
       "2021-06-29  0.441203 -1.843905"
      ]
     },
     "execution_count": 71,
     "metadata": {},
     "output_type": "execute_result"
    }
   ],
   "source": [
    "# iloc 라는 속성을 통해서 검색 -  index location의 약어\n",
    "# iloc[indexs, columns]\n",
    "\n",
    "df.iloc[0:2, 0:2]"
   ]
  },
  {
   "cell_type": "code",
   "execution_count": 72,
   "metadata": {},
   "outputs": [
    {
     "name": "stdout",
     "output_type": "stream",
     "text": [
      " C 드라이브의 볼륨에는 이름이 없습니다.\n",
      " 볼륨 일련 번호: 3E14-15CC\n",
      "\n",
      " C:\\202105_lab\\07.PythonLib 디렉터리\n",
      "\n",
      "2021-06-28  오후 12:42    <DIR>          .\n",
      "2021-06-28  오후 12:42    <DIR>          ..\n",
      "2021-06-28  오후 12:31    <DIR>          .ipynb_checkpoints\n",
      "2021-06-28  오전 09:44             1,815 0628_학습내용.txt\n",
      "2021-06-28  오후 12:31    <DIR>          dataset\n",
      "2021-06-28  오후 12:42            62,982 step01_PandasBasic_s.ipynb\n",
      "2021-06-28  오후 12:31            26,947 step02_PandasReview_s.ipynb\n",
      "               3개 파일              91,744 바이트\n",
      "               4개 디렉터리  136,304,963,584 바이트 남음\n"
     ]
    }
   ],
   "source": [
    "!dir"
   ]
  },
  {
   "cell_type": "markdown",
   "metadata": {},
   "source": [
    "### file로 부터 데이터 read해서 date 타입 이해하기"
   ]
  },
  {
   "cell_type": "code",
   "execution_count": 73,
   "metadata": {},
   "outputs": [
    {
     "data": {
      "text/html": [
       "<div>\n",
       "<style scoped>\n",
       "    .dataframe tbody tr th:only-of-type {\n",
       "        vertical-align: middle;\n",
       "    }\n",
       "\n",
       "    .dataframe tbody tr th {\n",
       "        vertical-align: top;\n",
       "    }\n",
       "\n",
       "    .dataframe thead th {\n",
       "        text-align: right;\n",
       "    }\n",
       "</style>\n",
       "<table border=\"1\" class=\"dataframe\">\n",
       "  <thead>\n",
       "    <tr style=\"text-align: right;\">\n",
       "      <th></th>\n",
       "      <th>Name</th>\n",
       "      <th>Birth</th>\n",
       "      <th>email</th>\n",
       "    </tr>\n",
       "  </thead>\n",
       "  <tbody>\n",
       "    <tr>\n",
       "      <th>0</th>\n",
       "      <td>이순신</td>\n",
       "      <td>2021-01-01 9:10</td>\n",
       "      <td>happy@gmail.com</td>\n",
       "    </tr>\n",
       "    <tr>\n",
       "      <th>1</th>\n",
       "      <td>홍길동</td>\n",
       "      <td>2021-01-08 9:20</td>\n",
       "      <td>1004@NAVER.COM</td>\n",
       "    </tr>\n",
       "    <tr>\n",
       "      <th>2</th>\n",
       "      <td>유관순</td>\n",
       "      <td>2021-02-01 10:20</td>\n",
       "      <td>Iron at yahoo.co.kr</td>\n",
       "    </tr>\n",
       "    <tr>\n",
       "      <th>3</th>\n",
       "      <td>이이</td>\n",
       "      <td>2021-02-02 11:40</td>\n",
       "      <td>\\tlee@gmail.com</td>\n",
       "    </tr>\n",
       "    <tr>\n",
       "      <th>4</th>\n",
       "      <td>김구</td>\n",
       "      <td>2021-02-28 15:10</td>\n",
       "      <td>kim@daum.net\\t</td>\n",
       "    </tr>\n",
       "    <tr>\n",
       "      <th>5</th>\n",
       "      <td>윤봉길</td>\n",
       "      <td>2021-04-10 19:20</td>\n",
       "      <td>yeon@daum.ac.kr</td>\n",
       "    </tr>\n",
       "    <tr>\n",
       "      <th>6</th>\n",
       "      <td>강감찬</td>\n",
       "      <td>2021-06-30 21:20</td>\n",
       "      <td>kkc@gmail.com</td>\n",
       "    </tr>\n",
       "    <tr>\n",
       "      <th>7</th>\n",
       "      <td>신사임당</td>\n",
       "      <td>2021-07-20 23:30</td>\n",
       "      <td>monther@NAVER.COM</td>\n",
       "    </tr>\n",
       "    <tr>\n",
       "      <th>8</th>\n",
       "      <td>을지문덕</td>\n",
       "      <td>2021-08-28 11:48</td>\n",
       "      <td>ygmd@daum.net</td>\n",
       "    </tr>\n",
       "    <tr>\n",
       "      <th>9</th>\n",
       "      <td>유재석</td>\n",
       "      <td>2021-09-01 3:12</td>\n",
       "      <td>yjs at gmail.com</td>\n",
       "    </tr>\n",
       "  </tbody>\n",
       "</table>\n",
       "</div>"
      ],
      "text/plain": [
       "   Name             Birth                  email\n",
       "0   이순신   2021-01-01 9:10       happy@gmail.com \n",
       "1   홍길동   2021-01-08 9:20         1004@NAVER.COM\n",
       "2   유관순  2021-02-01 10:20   Iron at yahoo.co.kr \n",
       "3    이이  2021-02-02 11:40        \\tlee@gmail.com\n",
       "4    김구  2021-02-28 15:10         kim@daum.net\\t\n",
       "5   윤봉길  2021-04-10 19:20        yeon@daum.ac.kr\n",
       "6   강감찬  2021-06-30 21:20          kkc@gmail.com\n",
       "7  신사임당  2021-07-20 23:30     monther@NAVER.COM \n",
       "8  을지문덕  2021-08-28 11:48          ygmd@daum.net\n",
       "9   유재석   2021-09-01 3:12       yjs at gmail.com"
      ]
     },
     "execution_count": 73,
     "metadata": {},
     "output_type": "execute_result"
    }
   ],
   "source": [
    "# 01.date_data.csv\n",
    "# csv 파일의 내용을 read하면서 DataFrame 객체로 생성\n",
    "\n",
    "# DataFrame 객체의 장점은 다양한 함수가 있기 때문에 조작 및 정제 가능\n",
    "\n",
    "# 가정사항 : csv 파일은 제공 받음, 단 raw 는 보존, 정제 및 분석을 위해서는 최적인 상태로\n",
    "# 가공 필요\n",
    "# 문제점 찾기 - \\t?,  at ?, \n",
    "\n",
    "\n",
    "# 사용 빈도가 매우 높음 \n",
    "df = pd.read_csv('dataset/01.date_data.csv')\n",
    "df"
   ]
  },
  {
   "cell_type": "code",
   "execution_count": 74,
   "metadata": {},
   "outputs": [
    {
     "name": "stdout",
     "output_type": "stream",
     "text": [
      "<class 'pandas.core.frame.DataFrame'>\n",
      "RangeIndex: 10 entries, 0 to 9\n",
      "Data columns (total 3 columns):\n",
      " #   Column  Non-Null Count  Dtype \n",
      "---  ------  --------------  ----- \n",
      " 0   Name    10 non-null     object\n",
      " 1   Birth   10 non-null     object\n",
      " 2   email   10 non-null     object\n",
      "dtypes: object(3)\n",
      "memory usage: 368.0+ bytes\n"
     ]
    }
   ],
   "source": [
    "# dtypes : 문자열 타입을 object 타입으로 표현\n",
    "\n",
    "df.info()"
   ]
  },
  {
   "cell_type": "code",
   "execution_count": 75,
   "metadata": {},
   "outputs": [
    {
     "data": {
      "text/html": [
       "<div>\n",
       "<style scoped>\n",
       "    .dataframe tbody tr th:only-of-type {\n",
       "        vertical-align: middle;\n",
       "    }\n",
       "\n",
       "    .dataframe tbody tr th {\n",
       "        vertical-align: top;\n",
       "    }\n",
       "\n",
       "    .dataframe thead th {\n",
       "        text-align: right;\n",
       "    }\n",
       "</style>\n",
       "<table border=\"1\" class=\"dataframe\">\n",
       "  <thead>\n",
       "    <tr style=\"text-align: right;\">\n",
       "      <th></th>\n",
       "      <th>Name</th>\n",
       "      <th>Birth</th>\n",
       "      <th>email</th>\n",
       "    </tr>\n",
       "  </thead>\n",
       "  <tbody>\n",
       "    <tr>\n",
       "      <th>0</th>\n",
       "      <td>이순신</td>\n",
       "      <td>2021-01-01 9:10</td>\n",
       "      <td>happy@gmail.com</td>\n",
       "    </tr>\n",
       "    <tr>\n",
       "      <th>1</th>\n",
       "      <td>홍길동</td>\n",
       "      <td>2021-01-08 9:20</td>\n",
       "      <td>1004@NAVER.COM</td>\n",
       "    </tr>\n",
       "    <tr>\n",
       "      <th>2</th>\n",
       "      <td>유관순</td>\n",
       "      <td>2021-02-01 10:20</td>\n",
       "      <td>Iron at yahoo.co.kr</td>\n",
       "    </tr>\n",
       "    <tr>\n",
       "      <th>3</th>\n",
       "      <td>이이</td>\n",
       "      <td>2021-02-02 11:40</td>\n",
       "      <td>\\tlee@gmail.com</td>\n",
       "    </tr>\n",
       "    <tr>\n",
       "      <th>4</th>\n",
       "      <td>김구</td>\n",
       "      <td>2021-02-28 15:10</td>\n",
       "      <td>kim@daum.net\\t</td>\n",
       "    </tr>\n",
       "    <tr>\n",
       "      <th>5</th>\n",
       "      <td>윤봉길</td>\n",
       "      <td>2021-04-10 19:20</td>\n",
       "      <td>yeon@daum.ac.kr</td>\n",
       "    </tr>\n",
       "    <tr>\n",
       "      <th>6</th>\n",
       "      <td>강감찬</td>\n",
       "      <td>2021-06-30 21:20</td>\n",
       "      <td>kkc@gmail.com</td>\n",
       "    </tr>\n",
       "    <tr>\n",
       "      <th>7</th>\n",
       "      <td>신사임당</td>\n",
       "      <td>2021-07-20 23:30</td>\n",
       "      <td>monther@NAVER.COM</td>\n",
       "    </tr>\n",
       "    <tr>\n",
       "      <th>8</th>\n",
       "      <td>을지문덕</td>\n",
       "      <td>2021-08-28 11:48</td>\n",
       "      <td>ygmd@daum.net</td>\n",
       "    </tr>\n",
       "    <tr>\n",
       "      <th>9</th>\n",
       "      <td>유재석</td>\n",
       "      <td>2021-09-01 3:12</td>\n",
       "      <td>yjs at gmail.com</td>\n",
       "    </tr>\n",
       "  </tbody>\n",
       "</table>\n",
       "</div>"
      ],
      "text/plain": [
       "   Name             Birth                  email\n",
       "0   이순신   2021-01-01 9:10       happy@gmail.com \n",
       "1   홍길동   2021-01-08 9:20         1004@NAVER.COM\n",
       "2   유관순  2021-02-01 10:20   Iron at yahoo.co.kr \n",
       "3    이이  2021-02-02 11:40        \\tlee@gmail.com\n",
       "4    김구  2021-02-28 15:10         kim@daum.net\\t\n",
       "5   윤봉길  2021-04-10 19:20        yeon@daum.ac.kr\n",
       "6   강감찬  2021-06-30 21:20          kkc@gmail.com\n",
       "7  신사임당  2021-07-20 23:30     monther@NAVER.COM \n",
       "8  을지문덕  2021-08-28 11:48          ygmd@daum.net\n",
       "9   유재석   2021-09-01 3:12       yjs at gmail.com"
      ]
     },
     "execution_count": 75,
     "metadata": {},
     "output_type": "execute_result"
    }
   ],
   "source": [
    "df"
   ]
  },
  {
   "cell_type": "code",
   "execution_count": 77,
   "metadata": {},
   "outputs": [
    {
     "data": {
      "text/plain": [
       "Index(['Name', 'Birth', 'email'], dtype='object')"
      ]
     },
     "execution_count": 77,
     "metadata": {},
     "output_type": "execute_result"
    }
   ],
   "source": [
    "df.columns"
   ]
  },
  {
   "cell_type": "code",
   "execution_count": 79,
   "metadata": {},
   "outputs": [
    {
     "data": {
      "text/plain": [
       "array([['이순신', '2021-01-01 9:10', 'happy@gmail.com '],\n",
       "       ['홍길동', '2021-01-08 9:20', '  1004@NAVER.COM'],\n",
       "       ['유관순', '2021-02-01 10:20', ' Iron at yahoo.co.kr '],\n",
       "       ['이이', '2021-02-02 11:40', '\\tlee@gmail.com'],\n",
       "       ['김구', '2021-02-28 15:10', 'kim@daum.net\\t'],\n",
       "       ['윤봉길', '2021-04-10 19:20', 'yeon@daum.ac.kr'],\n",
       "       ['강감찬', '2021-06-30 21:20', 'kkc@gmail.com'],\n",
       "       ['신사임당', '2021-07-20 23:30', 'monther@NAVER.COM '],\n",
       "       ['을지문덕', '2021-08-28 11:48', '    ygmd@daum.net'],\n",
       "       ['유재석', '2021-09-01 3:12', 'yjs at gmail.com']], dtype=object)"
      ]
     },
     "execution_count": 79,
     "metadata": {},
     "output_type": "execute_result"
    }
   ],
   "source": [
    "df.values"
   ]
  },
  {
   "cell_type": "code",
   "execution_count": 80,
   "metadata": {},
   "outputs": [
    {
     "data": {
      "text/plain": [
       "RangeIndex(start=0, stop=10, step=1)"
      ]
     },
     "execution_count": 80,
     "metadata": {},
     "output_type": "execute_result"
    }
   ],
   "source": [
    "df.index"
   ]
  },
  {
   "cell_type": "code",
   "execution_count": 81,
   "metadata": {},
   "outputs": [
    {
     "data": {
      "text/plain": [
       "0     2021-01-01 9:10\n",
       "1     2021-01-08 9:20\n",
       "2    2021-02-01 10:20\n",
       "3    2021-02-02 11:40\n",
       "4    2021-02-28 15:10\n",
       "5    2021-04-10 19:20\n",
       "6    2021-06-30 21:20\n",
       "7    2021-07-20 23:30\n",
       "8    2021-08-28 11:48\n",
       "9     2021-09-01 3:12\n",
       "Name: Birth, dtype: object"
      ]
     },
     "execution_count": 81,
     "metadata": {},
     "output_type": "execute_result"
    }
   ],
   "source": [
    "df['Birth']"
   ]
  },
  {
   "cell_type": "code",
   "execution_count": 82,
   "metadata": {},
   "outputs": [
    {
     "data": {
      "text/plain": [
       "0     2021-01-01 9:10\n",
       "1     2021-01-08 9:20\n",
       "2    2021-02-01 10:20\n",
       "3    2021-02-02 11:40\n",
       "4    2021-02-28 15:10\n",
       "5    2021-04-10 19:20\n",
       "6    2021-06-30 21:20\n",
       "7    2021-07-20 23:30\n",
       "8    2021-08-28 11:48\n",
       "9     2021-09-01 3:12\n",
       "Name: Birth, dtype: object"
      ]
     },
     "execution_count": 82,
     "metadata": {},
     "output_type": "execute_result"
    }
   ],
   "source": [
    "df.Birth"
   ]
  },
  {
   "cell_type": "code",
   "execution_count": 83,
   "metadata": {},
   "outputs": [
    {
     "data": {
      "text/html": [
       "<div>\n",
       "<style scoped>\n",
       "    .dataframe tbody tr th:only-of-type {\n",
       "        vertical-align: middle;\n",
       "    }\n",
       "\n",
       "    .dataframe tbody tr th {\n",
       "        vertical-align: top;\n",
       "    }\n",
       "\n",
       "    .dataframe thead th {\n",
       "        text-align: right;\n",
       "    }\n",
       "</style>\n",
       "<table border=\"1\" class=\"dataframe\">\n",
       "  <thead>\n",
       "    <tr style=\"text-align: right;\">\n",
       "      <th></th>\n",
       "      <th>Name</th>\n",
       "      <th>Birth</th>\n",
       "      <th>email</th>\n",
       "    </tr>\n",
       "  </thead>\n",
       "  <tbody>\n",
       "    <tr>\n",
       "      <th>0</th>\n",
       "      <td>이순신</td>\n",
       "      <td>2021-01-01 09:10:00</td>\n",
       "      <td>happy@gmail.com</td>\n",
       "    </tr>\n",
       "    <tr>\n",
       "      <th>1</th>\n",
       "      <td>홍길동</td>\n",
       "      <td>2021-01-08 09:20:00</td>\n",
       "      <td>1004@NAVER.COM</td>\n",
       "    </tr>\n",
       "    <tr>\n",
       "      <th>2</th>\n",
       "      <td>유관순</td>\n",
       "      <td>2021-02-01 10:20:00</td>\n",
       "      <td>Iron at yahoo.co.kr</td>\n",
       "    </tr>\n",
       "    <tr>\n",
       "      <th>3</th>\n",
       "      <td>이이</td>\n",
       "      <td>2021-02-02 11:40:00</td>\n",
       "      <td>\\tlee@gmail.com</td>\n",
       "    </tr>\n",
       "    <tr>\n",
       "      <th>4</th>\n",
       "      <td>김구</td>\n",
       "      <td>2021-02-28 15:10:00</td>\n",
       "      <td>kim@daum.net\\t</td>\n",
       "    </tr>\n",
       "    <tr>\n",
       "      <th>5</th>\n",
       "      <td>윤봉길</td>\n",
       "      <td>2021-04-10 19:20:00</td>\n",
       "      <td>yeon@daum.ac.kr</td>\n",
       "    </tr>\n",
       "    <tr>\n",
       "      <th>6</th>\n",
       "      <td>강감찬</td>\n",
       "      <td>2021-06-30 21:20:00</td>\n",
       "      <td>kkc@gmail.com</td>\n",
       "    </tr>\n",
       "    <tr>\n",
       "      <th>7</th>\n",
       "      <td>신사임당</td>\n",
       "      <td>2021-07-20 23:30:00</td>\n",
       "      <td>monther@NAVER.COM</td>\n",
       "    </tr>\n",
       "    <tr>\n",
       "      <th>8</th>\n",
       "      <td>을지문덕</td>\n",
       "      <td>2021-08-28 11:48:00</td>\n",
       "      <td>ygmd@daum.net</td>\n",
       "    </tr>\n",
       "    <tr>\n",
       "      <th>9</th>\n",
       "      <td>유재석</td>\n",
       "      <td>2021-09-01 03:12:00</td>\n",
       "      <td>yjs at gmail.com</td>\n",
       "    </tr>\n",
       "  </tbody>\n",
       "</table>\n",
       "</div>"
      ],
      "text/plain": [
       "   Name               Birth                  email\n",
       "0   이순신 2021-01-01 09:10:00       happy@gmail.com \n",
       "1   홍길동 2021-01-08 09:20:00         1004@NAVER.COM\n",
       "2   유관순 2021-02-01 10:20:00   Iron at yahoo.co.kr \n",
       "3    이이 2021-02-02 11:40:00        \\tlee@gmail.com\n",
       "4    김구 2021-02-28 15:10:00         kim@daum.net\\t\n",
       "5   윤봉길 2021-04-10 19:20:00        yeon@daum.ac.kr\n",
       "6   강감찬 2021-06-30 21:20:00          kkc@gmail.com\n",
       "7  신사임당 2021-07-20 23:30:00     monther@NAVER.COM \n",
       "8  을지문덕 2021-08-28 11:48:00          ygmd@daum.net\n",
       "9   유재석 2021-09-01 03:12:00       yjs at gmail.com"
      ]
     },
     "execution_count": 83,
     "metadata": {},
     "output_type": "execute_result"
    }
   ],
   "source": [
    "# object 즉 문자열 타입을 datetime 타입으로 변환 하는 구조\n",
    "\n",
    "df['Birth'] = pd.to_datetime(df['Birth'], format='%Y-%m-%d %H:%M:%S')\n",
    "df"
   ]
  },
  {
   "cell_type": "code",
   "execution_count": 84,
   "metadata": {},
   "outputs": [
    {
     "name": "stdout",
     "output_type": "stream",
     "text": [
      "<class 'pandas.core.frame.DataFrame'>\n",
      "RangeIndex: 10 entries, 0 to 9\n",
      "Data columns (total 3 columns):\n",
      " #   Column  Non-Null Count  Dtype         \n",
      "---  ------  --------------  -----         \n",
      " 0   Name    10 non-null     object        \n",
      " 1   Birth   10 non-null     datetime64[ns]\n",
      " 2   email   10 non-null     object        \n",
      "dtypes: datetime64[ns](1), object(2)\n",
      "memory usage: 368.0+ bytes\n"
     ]
    }
   ],
   "source": [
    "df.info()"
   ]
  },
  {
   "cell_type": "code",
   "execution_count": 85,
   "metadata": {},
   "outputs": [
    {
     "data": {
      "text/plain": [
       "0   2021-01-01 09:10:00\n",
       "1   2021-01-08 09:20:00\n",
       "2   2021-02-01 10:20:00\n",
       "3   2021-02-02 11:40:00\n",
       "4   2021-02-28 15:10:00\n",
       "5   2021-04-10 19:20:00\n",
       "6   2021-06-30 21:20:00\n",
       "7   2021-07-20 23:30:00\n",
       "8   2021-08-28 11:48:00\n",
       "9   2021-09-01 03:12:00\n",
       "Name: Birth, dtype: datetime64[ns]"
      ]
     },
     "execution_count": 85,
     "metadata": {},
     "output_type": "execute_result"
    }
   ],
   "source": [
    "df['Birth']"
   ]
  },
  {
   "cell_type": "code",
   "execution_count": 90,
   "metadata": {},
   "outputs": [
    {
     "data": {
      "text/plain": [
       "0   731 days 09:10:00\n",
       "1   738 days 09:20:00\n",
       "2   762 days 10:20:00\n",
       "3   763 days 11:40:00\n",
       "4   789 days 15:10:00\n",
       "5   830 days 19:20:00\n",
       "6   911 days 21:20:00\n",
       "7   931 days 23:30:00\n",
       "8   970 days 11:48:00\n",
       "9   974 days 03:12:00\n",
       "Name: Birth, dtype: timedelta64[ns]"
      ]
     },
     "execution_count": 90,
     "metadata": {},
     "output_type": "execute_result"
    }
   ],
   "source": [
    "# '2019-01-01' : 문자열\n",
    "# pd.to_datetime('2019-01-01') : 문자열을 datetime 즉 날짜 표현 타입으로 변환\n",
    "# - : 경과일\n",
    "\n",
    "eday = df['Birth'] - pd.to_datetime('2019-01-01')\n",
    "eday"
   ]
  },
  {
   "cell_type": "markdown",
   "metadata": {},
   "source": [
    "###  경과일 계산\n",
    "\n",
    "- timedelta64[??]  : 날짜의 덧셈과 뺄셈에 유용\n",
    "  - Y : 연단위로 자동 계산\n",
    "  - M : 월단위로 자동 계산\n",
    "  - D : 일 \n",
    "  - m : 분 \n",
    "  - s : 초"
   ]
  },
  {
   "cell_type": "code",
   "execution_count": 95,
   "metadata": {},
   "outputs": [
    {
     "data": {
      "text/plain": [
       "0    731.0\n",
       "1    738.0\n",
       "2    762.0\n",
       "3    763.0\n",
       "4    789.0\n",
       "5    830.0\n",
       "6    911.0\n",
       "7    931.0\n",
       "8    970.0\n",
       "9    974.0\n",
       "Name: Birth, dtype: float64"
      ]
     },
     "execution_count": 95,
     "metadata": {},
     "output_type": "execute_result"
    }
   ],
   "source": [
    "# 경과일을 day 즉 일을 기준으로 일 데이터만 도출\n",
    "# 아쉬운 점 : . 표현 의미 없을 경우 삭제 시도 astype() 함수로 체이닝 기술 적용 \n",
    "eday.astype('timedelta64[D]')"
   ]
  },
  {
   "cell_type": "code",
   "execution_count": 96,
   "metadata": {},
   "outputs": [
    {
     "data": {
      "text/plain": [
       "0    731\n",
       "1    738\n",
       "2    762\n",
       "3    763\n",
       "4    789\n",
       "5    830\n",
       "6    911\n",
       "7    931\n",
       "8    970\n",
       "9    974\n",
       "Name: Birth, dtype: int32"
      ]
     },
     "execution_count": 96,
     "metadata": {},
     "output_type": "execute_result"
    }
   ],
   "source": [
    "# 최종적으론 int로 정제\n",
    "eday.astype('timedelta64[D]').astype('int')"
   ]
  },
  {
   "cell_type": "markdown",
   "metadata": {},
   "source": [
    "## 인덱서(indexer)\n",
    "\n",
    "### iloc(index location)\n",
    "- 데이터 프레임의 부분집합 선택을 위한 도구\n",
    "- iloc는 정수로만 선택\n",
    "- 여러 개의 정수 위치를 선택하려면 리스트 전달\n",
    "- 동일한 간격으로 선택하려면 슬라이스 표기\n",
    "- iloc[index] or iloc[index, column]"
   ]
  },
  {
   "cell_type": "code",
   "execution_count": 97,
   "metadata": {},
   "outputs": [
    {
     "data": {
      "text/html": [
       "<div>\n",
       "<style scoped>\n",
       "    .dataframe tbody tr th:only-of-type {\n",
       "        vertical-align: middle;\n",
       "    }\n",
       "\n",
       "    .dataframe tbody tr th {\n",
       "        vertical-align: top;\n",
       "    }\n",
       "\n",
       "    .dataframe thead th {\n",
       "        text-align: right;\n",
       "    }\n",
       "</style>\n",
       "<table border=\"1\" class=\"dataframe\">\n",
       "  <thead>\n",
       "    <tr style=\"text-align: right;\">\n",
       "      <th></th>\n",
       "      <th>Name</th>\n",
       "      <th>Birth</th>\n",
       "      <th>email</th>\n",
       "    </tr>\n",
       "  </thead>\n",
       "  <tbody>\n",
       "    <tr>\n",
       "      <th>0</th>\n",
       "      <td>이순신</td>\n",
       "      <td>2021-01-01 9:10</td>\n",
       "      <td>happy@gmail.com</td>\n",
       "    </tr>\n",
       "    <tr>\n",
       "      <th>1</th>\n",
       "      <td>홍길동</td>\n",
       "      <td>2021-01-08 9:20</td>\n",
       "      <td>1004@NAVER.COM</td>\n",
       "    </tr>\n",
       "    <tr>\n",
       "      <th>2</th>\n",
       "      <td>유관순</td>\n",
       "      <td>2021-02-01 10:20</td>\n",
       "      <td>Iron at yahoo.co.kr</td>\n",
       "    </tr>\n",
       "    <tr>\n",
       "      <th>3</th>\n",
       "      <td>이이</td>\n",
       "      <td>2021-02-02 11:40</td>\n",
       "      <td>\\tlee@gmail.com</td>\n",
       "    </tr>\n",
       "    <tr>\n",
       "      <th>4</th>\n",
       "      <td>김구</td>\n",
       "      <td>2021-02-28 15:10</td>\n",
       "      <td>kim@daum.net\\t</td>\n",
       "    </tr>\n",
       "    <tr>\n",
       "      <th>5</th>\n",
       "      <td>윤봉길</td>\n",
       "      <td>2021-04-10 19:20</td>\n",
       "      <td>yeon@daum.ac.kr</td>\n",
       "    </tr>\n",
       "    <tr>\n",
       "      <th>6</th>\n",
       "      <td>강감찬</td>\n",
       "      <td>2021-06-30 21:20</td>\n",
       "      <td>kkc@gmail.com</td>\n",
       "    </tr>\n",
       "    <tr>\n",
       "      <th>7</th>\n",
       "      <td>신사임당</td>\n",
       "      <td>2021-07-20 23:30</td>\n",
       "      <td>monther@NAVER.COM</td>\n",
       "    </tr>\n",
       "    <tr>\n",
       "      <th>8</th>\n",
       "      <td>을지문덕</td>\n",
       "      <td>2021-08-28 11:48</td>\n",
       "      <td>ygmd@daum.net</td>\n",
       "    </tr>\n",
       "    <tr>\n",
       "      <th>9</th>\n",
       "      <td>유재석</td>\n",
       "      <td>2021-09-01 3:12</td>\n",
       "      <td>yjs at gmail.com</td>\n",
       "    </tr>\n",
       "  </tbody>\n",
       "</table>\n",
       "</div>"
      ],
      "text/plain": [
       "   Name             Birth                  email\n",
       "0   이순신   2021-01-01 9:10       happy@gmail.com \n",
       "1   홍길동   2021-01-08 9:20         1004@NAVER.COM\n",
       "2   유관순  2021-02-01 10:20   Iron at yahoo.co.kr \n",
       "3    이이  2021-02-02 11:40        \\tlee@gmail.com\n",
       "4    김구  2021-02-28 15:10         kim@daum.net\\t\n",
       "5   윤봉길  2021-04-10 19:20        yeon@daum.ac.kr\n",
       "6   강감찬  2021-06-30 21:20          kkc@gmail.com\n",
       "7  신사임당  2021-07-20 23:30     monther@NAVER.COM \n",
       "8  을지문덕  2021-08-28 11:48          ygmd@daum.net\n",
       "9   유재석   2021-09-01 3:12       yjs at gmail.com"
      ]
     },
     "execution_count": 97,
     "metadata": {},
     "output_type": "execute_result"
    }
   ],
   "source": [
    "df = pd.read_csv('dataset/01.date_data.csv')\n",
    "df"
   ]
  },
  {
   "cell_type": "code",
   "execution_count": 98,
   "metadata": {},
   "outputs": [
    {
     "data": {
      "text/plain": [
       "Name                       유관순\n",
       "Birth         2021-02-01 10:20\n",
       "email     Iron at yahoo.co.kr \n",
       "Name: 2, dtype: object"
      ]
     },
     "execution_count": 98,
     "metadata": {},
     "output_type": "execute_result"
    }
   ],
   "source": [
    "df.iloc[2]"
   ]
  },
  {
   "cell_type": "code",
   "execution_count": 99,
   "metadata": {},
   "outputs": [
    {
     "data": {
      "text/html": [
       "<div>\n",
       "<style scoped>\n",
       "    .dataframe tbody tr th:only-of-type {\n",
       "        vertical-align: middle;\n",
       "    }\n",
       "\n",
       "    .dataframe tbody tr th {\n",
       "        vertical-align: top;\n",
       "    }\n",
       "\n",
       "    .dataframe thead th {\n",
       "        text-align: right;\n",
       "    }\n",
       "</style>\n",
       "<table border=\"1\" class=\"dataframe\">\n",
       "  <thead>\n",
       "    <tr style=\"text-align: right;\">\n",
       "      <th></th>\n",
       "      <th>Name</th>\n",
       "      <th>Birth</th>\n",
       "      <th>email</th>\n",
       "    </tr>\n",
       "  </thead>\n",
       "  <tbody>\n",
       "    <tr>\n",
       "      <th>0</th>\n",
       "      <td>이순신</td>\n",
       "      <td>2021-01-01 9:10</td>\n",
       "      <td>happy@gmail.com</td>\n",
       "    </tr>\n",
       "    <tr>\n",
       "      <th>1</th>\n",
       "      <td>홍길동</td>\n",
       "      <td>2021-01-08 9:20</td>\n",
       "      <td>1004@NAVER.COM</td>\n",
       "    </tr>\n",
       "    <tr>\n",
       "      <th>2</th>\n",
       "      <td>유관순</td>\n",
       "      <td>2021-02-01 10:20</td>\n",
       "      <td>Iron at yahoo.co.kr</td>\n",
       "    </tr>\n",
       "    <tr>\n",
       "      <th>3</th>\n",
       "      <td>이이</td>\n",
       "      <td>2021-02-02 11:40</td>\n",
       "      <td>\\tlee@gmail.com</td>\n",
       "    </tr>\n",
       "    <tr>\n",
       "      <th>4</th>\n",
       "      <td>김구</td>\n",
       "      <td>2021-02-28 15:10</td>\n",
       "      <td>kim@daum.net\\t</td>\n",
       "    </tr>\n",
       "    <tr>\n",
       "      <th>5</th>\n",
       "      <td>윤봉길</td>\n",
       "      <td>2021-04-10 19:20</td>\n",
       "      <td>yeon@daum.ac.kr</td>\n",
       "    </tr>\n",
       "    <tr>\n",
       "      <th>6</th>\n",
       "      <td>강감찬</td>\n",
       "      <td>2021-06-30 21:20</td>\n",
       "      <td>kkc@gmail.com</td>\n",
       "    </tr>\n",
       "    <tr>\n",
       "      <th>7</th>\n",
       "      <td>신사임당</td>\n",
       "      <td>2021-07-20 23:30</td>\n",
       "      <td>monther@NAVER.COM</td>\n",
       "    </tr>\n",
       "    <tr>\n",
       "      <th>8</th>\n",
       "      <td>을지문덕</td>\n",
       "      <td>2021-08-28 11:48</td>\n",
       "      <td>ygmd@daum.net</td>\n",
       "    </tr>\n",
       "    <tr>\n",
       "      <th>9</th>\n",
       "      <td>유재석</td>\n",
       "      <td>2021-09-01 3:12</td>\n",
       "      <td>yjs at gmail.com</td>\n",
       "    </tr>\n",
       "  </tbody>\n",
       "</table>\n",
       "</div>"
      ],
      "text/plain": [
       "   Name             Birth                  email\n",
       "0   이순신   2021-01-01 9:10       happy@gmail.com \n",
       "1   홍길동   2021-01-08 9:20         1004@NAVER.COM\n",
       "2   유관순  2021-02-01 10:20   Iron at yahoo.co.kr \n",
       "3    이이  2021-02-02 11:40        \\tlee@gmail.com\n",
       "4    김구  2021-02-28 15:10         kim@daum.net\\t\n",
       "5   윤봉길  2021-04-10 19:20        yeon@daum.ac.kr\n",
       "6   강감찬  2021-06-30 21:20          kkc@gmail.com\n",
       "7  신사임당  2021-07-20 23:30     monther@NAVER.COM \n",
       "8  을지문덕  2021-08-28 11:48          ygmd@daum.net\n",
       "9   유재석   2021-09-01 3:12       yjs at gmail.com"
      ]
     },
     "execution_count": 99,
     "metadata": {},
     "output_type": "execute_result"
    }
   ],
   "source": [
    "df"
   ]
  },
  {
   "cell_type": "code",
   "execution_count": 100,
   "metadata": {},
   "outputs": [
    {
     "data": {
      "text/plain": [
       "'이순신'"
      ]
     },
     "execution_count": 100,
     "metadata": {},
     "output_type": "execute_result"
    }
   ],
   "source": [
    "df.iloc[0, 0]"
   ]
  },
  {
   "cell_type": "code",
   "execution_count": 102,
   "metadata": {},
   "outputs": [
    {
     "data": {
      "text/plain": [
       "'2021-01-08 9:20'"
      ]
     },
     "execution_count": 102,
     "metadata": {},
     "output_type": "execute_result"
    }
   ],
   "source": [
    "df.iloc[1, 1]"
   ]
  },
  {
   "cell_type": "code",
   "execution_count": 105,
   "metadata": {},
   "outputs": [
    {
     "data": {
      "text/html": [
       "<div>\n",
       "<style scoped>\n",
       "    .dataframe tbody tr th:only-of-type {\n",
       "        vertical-align: middle;\n",
       "    }\n",
       "\n",
       "    .dataframe tbody tr th {\n",
       "        vertical-align: top;\n",
       "    }\n",
       "\n",
       "    .dataframe thead th {\n",
       "        text-align: right;\n",
       "    }\n",
       "</style>\n",
       "<table border=\"1\" class=\"dataframe\">\n",
       "  <thead>\n",
       "    <tr style=\"text-align: right;\">\n",
       "      <th></th>\n",
       "      <th>Name</th>\n",
       "      <th>Birth</th>\n",
       "      <th>email</th>\n",
       "    </tr>\n",
       "  </thead>\n",
       "  <tbody>\n",
       "    <tr>\n",
       "      <th>0</th>\n",
       "      <td>이순신</td>\n",
       "      <td>2021-01-01 9:10</td>\n",
       "      <td>happy@gmail.com</td>\n",
       "    </tr>\n",
       "    <tr>\n",
       "      <th>1</th>\n",
       "      <td>홍길동</td>\n",
       "      <td>2021-01-08 9:20</td>\n",
       "      <td>1004@NAVER.COM</td>\n",
       "    </tr>\n",
       "    <tr>\n",
       "      <th>2</th>\n",
       "      <td>유관순</td>\n",
       "      <td>2021-02-01 10:20</td>\n",
       "      <td>Iron at yahoo.co.kr</td>\n",
       "    </tr>\n",
       "    <tr>\n",
       "      <th>3</th>\n",
       "      <td>이이</td>\n",
       "      <td>2021-02-02 11:40</td>\n",
       "      <td>\\tlee@gmail.com</td>\n",
       "    </tr>\n",
       "    <tr>\n",
       "      <th>4</th>\n",
       "      <td>김구</td>\n",
       "      <td>2021-02-28 15:10</td>\n",
       "      <td>kim@daum.net\\t</td>\n",
       "    </tr>\n",
       "  </tbody>\n",
       "</table>\n",
       "</div>"
      ],
      "text/plain": [
       "  Name             Birth                  email\n",
       "0  이순신   2021-01-01 9:10       happy@gmail.com \n",
       "1  홍길동   2021-01-08 9:20         1004@NAVER.COM\n",
       "2  유관순  2021-02-01 10:20   Iron at yahoo.co.kr \n",
       "3   이이  2021-02-02 11:40        \\tlee@gmail.com\n",
       "4   김구  2021-02-28 15:10         kim@daum.net\\t"
      ]
     },
     "execution_count": 105,
     "metadata": {},
     "output_type": "execute_result"
    }
   ],
   "source": [
    "df.head()  # DataFrame의 앞 부분 영역 5개의 index 반환"
   ]
  },
  {
   "cell_type": "code",
   "execution_count": 103,
   "metadata": {},
   "outputs": [
    {
     "data": {
      "text/plain": [
       "1    홍길동\n",
       "2    유관순\n",
       "Name: Name, dtype: object"
      ]
     },
     "execution_count": 103,
     "metadata": {},
     "output_type": "execute_result"
    }
   ],
   "source": [
    "df.iloc[1:3, 0]"
   ]
  },
  {
   "cell_type": "code",
   "execution_count": 107,
   "metadata": {},
   "outputs": [
    {
     "data": {
      "text/plain": [
       "'kim@daum.net\\t'"
      ]
     },
     "execution_count": 107,
     "metadata": {},
     "output_type": "execute_result"
    }
   ],
   "source": [
    "df.iloc[4, 2]"
   ]
  },
  {
   "cell_type": "code",
   "execution_count": 108,
   "metadata": {},
   "outputs": [
    {
     "data": {
      "text/html": [
       "<div>\n",
       "<style scoped>\n",
       "    .dataframe tbody tr th:only-of-type {\n",
       "        vertical-align: middle;\n",
       "    }\n",
       "\n",
       "    .dataframe tbody tr th {\n",
       "        vertical-align: top;\n",
       "    }\n",
       "\n",
       "    .dataframe thead th {\n",
       "        text-align: right;\n",
       "    }\n",
       "</style>\n",
       "<table border=\"1\" class=\"dataframe\">\n",
       "  <thead>\n",
       "    <tr style=\"text-align: right;\">\n",
       "      <th></th>\n",
       "      <th>Name</th>\n",
       "      <th>Birth</th>\n",
       "      <th>email</th>\n",
       "    </tr>\n",
       "  </thead>\n",
       "  <tbody>\n",
       "    <tr>\n",
       "      <th>1</th>\n",
       "      <td>홍길동</td>\n",
       "      <td>2021-01-08 9:20</td>\n",
       "      <td>1004@NAVER.COM</td>\n",
       "    </tr>\n",
       "    <tr>\n",
       "      <th>2</th>\n",
       "      <td>유관순</td>\n",
       "      <td>2021-02-01 10:20</td>\n",
       "      <td>Iron at yahoo.co.kr</td>\n",
       "    </tr>\n",
       "  </tbody>\n",
       "</table>\n",
       "</div>"
      ],
      "text/plain": [
       "  Name             Birth                  email\n",
       "1  홍길동   2021-01-08 9:20         1004@NAVER.COM\n",
       "2  유관순  2021-02-01 10:20   Iron at yahoo.co.kr "
      ]
     },
     "execution_count": 108,
     "metadata": {},
     "output_type": "execute_result"
    }
   ],
   "source": [
    "# index 1~2까지의 모든 컬럼(DataFrame 관점에선 시리즈) 검색 \n",
    "df.iloc[1:3, :]"
   ]
  },
  {
   "cell_type": "markdown",
   "metadata": {},
   "source": [
    "### loc 속성\n",
    "\n",
    "- 데이터들을 slicing 하는 기술\n",
    "- loc[index, columns]\n",
    "- loc는 레이블로만 선택\n",
    "- 여러 개의 레이블을 선택하려면 리스트 전달\n",
    "- 동일한 간격으로 선택하려면 슬라이스 표기 사용\n",
    "- 마지막 레이블까지 포함"
   ]
  },
  {
   "cell_type": "code",
   "execution_count": 112,
   "metadata": {},
   "outputs": [
    {
     "data": {
      "text/html": [
       "<div>\n",
       "<style scoped>\n",
       "    .dataframe tbody tr th:only-of-type {\n",
       "        vertical-align: middle;\n",
       "    }\n",
       "\n",
       "    .dataframe tbody tr th {\n",
       "        vertical-align: top;\n",
       "    }\n",
       "\n",
       "    .dataframe thead th {\n",
       "        text-align: right;\n",
       "    }\n",
       "</style>\n",
       "<table border=\"1\" class=\"dataframe\">\n",
       "  <thead>\n",
       "    <tr style=\"text-align: right;\">\n",
       "      <th></th>\n",
       "      <th>Name</th>\n",
       "      <th>Birth</th>\n",
       "      <th>email</th>\n",
       "    </tr>\n",
       "  </thead>\n",
       "  <tbody>\n",
       "    <tr>\n",
       "      <th>7</th>\n",
       "      <td>신사임당</td>\n",
       "      <td>2021-07-20 23:30</td>\n",
       "      <td>monther@NAVER.COM</td>\n",
       "    </tr>\n",
       "    <tr>\n",
       "      <th>8</th>\n",
       "      <td>을지문덕</td>\n",
       "      <td>2021-08-28 11:48</td>\n",
       "      <td>ygmd@daum.net</td>\n",
       "    </tr>\n",
       "    <tr>\n",
       "      <th>9</th>\n",
       "      <td>유재석</td>\n",
       "      <td>2021-09-01 3:12</td>\n",
       "      <td>yjs at gmail.com</td>\n",
       "    </tr>\n",
       "  </tbody>\n",
       "</table>\n",
       "</div>"
      ],
      "text/plain": [
       "   Name             Birth               email\n",
       "7  신사임당  2021-07-20 23:30  monther@NAVER.COM \n",
       "8  을지문덕  2021-08-28 11:48       ygmd@daum.net\n",
       "9   유재석   2021-09-01 3:12    yjs at gmail.com"
      ]
     },
     "execution_count": 112,
     "metadata": {},
     "output_type": "execute_result"
    }
   ],
   "source": [
    "df = pd.read_csv('dataset/01.date_data.csv')\n",
    "df.tail(3)"
   ]
  },
  {
   "cell_type": "code",
   "execution_count": 113,
   "metadata": {},
   "outputs": [
    {
     "data": {
      "text/html": [
       "<div>\n",
       "<style scoped>\n",
       "    .dataframe tbody tr th:only-of-type {\n",
       "        vertical-align: middle;\n",
       "    }\n",
       "\n",
       "    .dataframe tbody tr th {\n",
       "        vertical-align: top;\n",
       "    }\n",
       "\n",
       "    .dataframe thead th {\n",
       "        text-align: right;\n",
       "    }\n",
       "</style>\n",
       "<table border=\"1\" class=\"dataframe\">\n",
       "  <thead>\n",
       "    <tr style=\"text-align: right;\">\n",
       "      <th></th>\n",
       "      <th>Name</th>\n",
       "      <th>Birth</th>\n",
       "    </tr>\n",
       "  </thead>\n",
       "  <tbody>\n",
       "    <tr>\n",
       "      <th>0</th>\n",
       "      <td>이순신</td>\n",
       "      <td>2021-01-01 9:10</td>\n",
       "    </tr>\n",
       "    <tr>\n",
       "      <th>1</th>\n",
       "      <td>홍길동</td>\n",
       "      <td>2021-01-08 9:20</td>\n",
       "    </tr>\n",
       "    <tr>\n",
       "      <th>2</th>\n",
       "      <td>유관순</td>\n",
       "      <td>2021-02-01 10:20</td>\n",
       "    </tr>\n",
       "    <tr>\n",
       "      <th>3</th>\n",
       "      <td>이이</td>\n",
       "      <td>2021-02-02 11:40</td>\n",
       "    </tr>\n",
       "    <tr>\n",
       "      <th>4</th>\n",
       "      <td>김구</td>\n",
       "      <td>2021-02-28 15:10</td>\n",
       "    </tr>\n",
       "    <tr>\n",
       "      <th>5</th>\n",
       "      <td>윤봉길</td>\n",
       "      <td>2021-04-10 19:20</td>\n",
       "    </tr>\n",
       "    <tr>\n",
       "      <th>6</th>\n",
       "      <td>강감찬</td>\n",
       "      <td>2021-06-30 21:20</td>\n",
       "    </tr>\n",
       "    <tr>\n",
       "      <th>7</th>\n",
       "      <td>신사임당</td>\n",
       "      <td>2021-07-20 23:30</td>\n",
       "    </tr>\n",
       "    <tr>\n",
       "      <th>8</th>\n",
       "      <td>을지문덕</td>\n",
       "      <td>2021-08-28 11:48</td>\n",
       "    </tr>\n",
       "    <tr>\n",
       "      <th>9</th>\n",
       "      <td>유재석</td>\n",
       "      <td>2021-09-01 3:12</td>\n",
       "    </tr>\n",
       "  </tbody>\n",
       "</table>\n",
       "</div>"
      ],
      "text/plain": [
       "   Name             Birth\n",
       "0   이순신   2021-01-01 9:10\n",
       "1   홍길동   2021-01-08 9:20\n",
       "2   유관순  2021-02-01 10:20\n",
       "3    이이  2021-02-02 11:40\n",
       "4    김구  2021-02-28 15:10\n",
       "5   윤봉길  2021-04-10 19:20\n",
       "6   강감찬  2021-06-30 21:20\n",
       "7  신사임당  2021-07-20 23:30\n",
       "8  을지문덕  2021-08-28 11:48\n",
       "9   유재석   2021-09-01 3:12"
      ]
     },
     "execution_count": 113,
     "metadata": {},
     "output_type": "execute_result"
    }
   ],
   "source": [
    "# 모든 row들이면서 Name, Birth 시리즈 값만 반환\n",
    "df.loc[:, ['Name', 'Birth']]"
   ]
  },
  {
   "cell_type": "code",
   "execution_count": 118,
   "metadata": {},
   "outputs": [
    {
     "name": "stdout",
     "output_type": "stream",
     "text": [
      "이순신\n",
      "이순신\n"
     ]
    }
   ],
   "source": [
    "# 데이터 수정\n",
    "print(df.iloc[0, 0])\n",
    "print(df.loc[0, 'Name'])\n"
   ]
  },
  {
   "cell_type": "code",
   "execution_count": 187,
   "metadata": {},
   "outputs": [
    {
     "data": {
      "text/html": [
       "<div>\n",
       "<style scoped>\n",
       "    .dataframe tbody tr th:only-of-type {\n",
       "        vertical-align: middle;\n",
       "    }\n",
       "\n",
       "    .dataframe tbody tr th {\n",
       "        vertical-align: top;\n",
       "    }\n",
       "\n",
       "    .dataframe thead th {\n",
       "        text-align: right;\n",
       "    }\n",
       "</style>\n",
       "<table border=\"1\" class=\"dataframe\">\n",
       "  <thead>\n",
       "    <tr style=\"text-align: right;\">\n",
       "      <th></th>\n",
       "      <th>이름</th>\n",
       "      <th>나이</th>\n",
       "      <th>직업</th>\n",
       "      <th>hobby</th>\n",
       "      <th>Name</th>\n",
       "    </tr>\n",
       "  </thead>\n",
       "  <tbody>\n",
       "    <tr>\n",
       "      <th>0</th>\n",
       "      <td>신동엽</td>\n",
       "      <td>20</td>\n",
       "      <td>연예인</td>\n",
       "      <td>music</td>\n",
       "      <td>김순신</td>\n",
       "    </tr>\n",
       "    <tr>\n",
       "      <th>1</th>\n",
       "      <td>유재석</td>\n",
       "      <td>41</td>\n",
       "      <td>교수</td>\n",
       "      <td>art</td>\n",
       "      <td>NaN</td>\n",
       "    </tr>\n",
       "    <tr>\n",
       "      <th>2</th>\n",
       "      <td>김새롬</td>\n",
       "      <td>18</td>\n",
       "      <td>학생</td>\n",
       "      <td>study</td>\n",
       "      <td>NaN</td>\n",
       "    </tr>\n",
       "    <tr>\n",
       "      <th>3</th>\n",
       "      <td>이영자</td>\n",
       "      <td>45</td>\n",
       "      <td>상담사</td>\n",
       "      <td>talk</td>\n",
       "      <td>NaN</td>\n",
       "    </tr>\n",
       "    <tr>\n",
       "      <th>4</th>\n",
       "      <td>강호동</td>\n",
       "      <td>38</td>\n",
       "      <td>연예인</td>\n",
       "      <td>talk</td>\n",
       "      <td>NaN</td>\n",
       "    </tr>\n",
       "  </tbody>\n",
       "</table>\n",
       "</div>"
      ],
      "text/plain": [
       "    이름  나이   직업  hobby Name\n",
       "0  신동엽  20  연예인  music  김순신\n",
       "1  유재석  41   교수    art  NaN\n",
       "2  김새롬  18   학생  study  NaN\n",
       "3  이영자  45  상담사   talk  NaN\n",
       "4  강호동  38  연예인   talk  NaN"
      ]
     },
     "execution_count": 187,
     "metadata": {},
     "output_type": "execute_result"
    }
   ],
   "source": [
    "df.loc[0, 'Name'] = '김순신'\n",
    "df.head()"
   ]
  },
  {
   "cell_type": "code",
   "execution_count": 194,
   "metadata": {},
   "outputs": [],
   "source": [
    "# 새로운 시리즈(칼럼) 추가\n",
    "df = pd.read_csv('dataset/01.date_data.csv')\n",
    "df['age'] = range(10,101,10)\n",
    "df.head(1)\n",
    "del df['age']"
   ]
  },
  {
   "cell_type": "markdown",
   "metadata": {},
   "source": [
    "- file로 부터 데이터 read해서 dataFrame\n",
    "- dataframe 특정 데이터값 착출,수정,추가"
   ]
  },
  {
   "cell_type": "markdown",
   "metadata": {},
   "source": [
    "### 이미 존재하는 파일의 내용을 기반으로 DataFrame 생성하기"
   ]
  },
  {
   "cell_type": "code",
   "execution_count": 202,
   "metadata": {},
   "outputs": [
    {
     "name": "stdout",
     "output_type": "stream",
     "text": [
      "    이름  나이   직업  hobby\n",
      "0  신동엽  20  연예인  music\n",
      "1  유재석  41   교수    art\n",
      "2  김새롬  18   학생  study\n",
      "3  이영자  45  상담사   talk\n",
      "4  강호동  38  연예인   talk\n"
     ]
    }
   ],
   "source": [
    "df = pd.read_csv('dataset/03.friendsTab.txt')\n",
    "df\n",
    "# tab으로 데이터 구분 -> tab seperated value(tsv) -> *.tsv\n",
    "# txt 파일엔 문제가 없는데, DataFrame 변환 시 문제 발생\n",
    "# 해결책 : read.csv 에 구분자 속성으로 ,가 아닌tab 구분자로 \n",
    "# delimiter 를 사용하여 구분자를 결정\n",
    "df = pd.read_csv('dataset/03.friendsTab.txt' , delimiter ='\\t')\n",
    "print(df)\n"
   ]
  },
  {
   "cell_type": "code",
   "execution_count": 198,
   "metadata": {},
   "outputs": [
    {
     "data": {
      "text/plain": [
       "pandas.core.frame.DataFrame"
      ]
     },
     "execution_count": 198,
     "metadata": {},
     "output_type": "execute_result"
    }
   ],
   "source": [
    "type(df)"
   ]
  },
  {
   "cell_type": "code",
   "execution_count": 203,
   "metadata": {},
   "outputs": [
    {
     "data": {
      "text/plain": [
       "45"
      ]
     },
     "execution_count": 203,
     "metadata": {},
     "output_type": "execute_result"
    }
   ],
   "source": [
    "df.loc[3,'나이']"
   ]
  },
  {
   "cell_type": "code",
   "execution_count": 208,
   "metadata": {},
   "outputs": [
    {
     "data": {
      "text/plain": [
       "Index(['신동엽', '20', '연예인', 'music'], dtype='object')"
      ]
     },
     "execution_count": 208,
     "metadata": {},
     "output_type": "execute_result"
    }
   ],
   "source": [
    "df = pd.read_csv('dataset/04.friendsTabNoHead.txt', delimiter='\\t')\n",
    "df.columns"
   ]
  },
  {
   "cell_type": "code",
   "execution_count": 212,
   "metadata": {},
   "outputs": [],
   "source": [
    "df = pd.read_csv('dataset/04.friendsTabNoHead.txt', delimiter='\\t',header = None)\n"
   ]
  },
  {
   "cell_type": "code",
   "execution_count": 220,
   "metadata": {},
   "outputs": [
    {
     "name": "stdout",
     "output_type": "stream",
     "text": [
      "    이름  age  job  hobby\n",
      "0  신동엽   20  연예인  music\n",
      "1  유재석   41   교수    art\n",
      "2  김새롬   18   학생  study\n",
      "3  이영자   45  상담사   talk\n",
      "4  강호동   38  연예인   talk\n"
     ]
    }
   ],
   "source": [
    "# 칼럼 추가 시 names 라는 속성 활용\n",
    "df = pd.read_csv('dataset/04.friendsTabNoHead.txt',\n",
    "                 delimiter='\\t', names=['이름', 'age', 'job', 'hobby'])\n",
    "print(df)\n",
    "# df['sal']= 0\n",
    "# df"
   ]
  },
  {
   "cell_type": "code",
   "execution_count": 224,
   "metadata": {},
   "outputs": [
    {
     "data": {
      "text/html": [
       "<div>\n",
       "<style scoped>\n",
       "    .dataframe tbody tr th:only-of-type {\n",
       "        vertical-align: middle;\n",
       "    }\n",
       "\n",
       "    .dataframe tbody tr th {\n",
       "        vertical-align: top;\n",
       "    }\n",
       "\n",
       "    .dataframe thead th {\n",
       "        text-align: right;\n",
       "    }\n",
       "</style>\n",
       "<table border=\"1\" class=\"dataframe\">\n",
       "  <thead>\n",
       "    <tr style=\"text-align: right;\">\n",
       "      <th></th>\n",
       "      <th>이름</th>\n",
       "      <th>age</th>\n",
       "      <th>job</th>\n",
       "      <th>hobby</th>\n",
       "      <th>sal</th>\n",
       "    </tr>\n",
       "  </thead>\n",
       "  <tbody>\n",
       "    <tr>\n",
       "      <th>0</th>\n",
       "      <td>신동엽</td>\n",
       "      <td>20</td>\n",
       "      <td>연예인</td>\n",
       "      <td>music</td>\n",
       "      <td>yes</td>\n",
       "    </tr>\n",
       "    <tr>\n",
       "      <th>1</th>\n",
       "      <td>유재석</td>\n",
       "      <td>41</td>\n",
       "      <td>교수</td>\n",
       "      <td>art</td>\n",
       "      <td>yes</td>\n",
       "    </tr>\n",
       "    <tr>\n",
       "      <th>2</th>\n",
       "      <td>김새롬</td>\n",
       "      <td>18</td>\n",
       "      <td>학생</td>\n",
       "      <td>study</td>\n",
       "      <td>no</td>\n",
       "    </tr>\n",
       "    <tr>\n",
       "      <th>3</th>\n",
       "      <td>이영자</td>\n",
       "      <td>45</td>\n",
       "      <td>상담사</td>\n",
       "      <td>talk</td>\n",
       "      <td>yes</td>\n",
       "    </tr>\n",
       "    <tr>\n",
       "      <th>4</th>\n",
       "      <td>강호동</td>\n",
       "      <td>38</td>\n",
       "      <td>연예인</td>\n",
       "      <td>talk</td>\n",
       "      <td>yes</td>\n",
       "    </tr>\n",
       "  </tbody>\n",
       "</table>\n",
       "</div>"
      ],
      "text/plain": [
       "    이름  age  job  hobby  sal\n",
       "0  신동엽   20  연예인  music  yes\n",
       "1  유재석   41   교수    art  yes\n",
       "2  김새롬   18   학생  study   no\n",
       "3  이영자   45  상담사   talk  yes\n",
       "4  강호동   38  연예인   talk  yes"
      ]
     },
     "execution_count": 224,
     "metadata": {},
     "output_type": "execute_result"
    }
   ],
   "source": [
    "# 3항 연산자 :  조건식? 조건식이 true 일때 실행, 조건식이 false일때 실행\n",
    "df['job'] == '학생'\n",
    "\n",
    "\n",
    "df['sal'] = np.where( df['job'] != '학생', 'yes', 'no')\n",
    "df"
   ]
  },
  {
   "cell_type": "code",
   "execution_count": 230,
   "metadata": {},
   "outputs": [
    {
     "data": {
      "text/plain": [
       "list"
      ]
     },
     "execution_count": 230,
     "metadata": {},
     "output_type": "execute_result"
    }
   ],
   "source": [
    "friend_dict_list = [{'name': '신동엽', 'age': 20, 'job': '연예인', 'hobby': 'music'},\n",
    "                    {'name': '유재석', 'age': 41, 'job': '교수', 'hobby': 'art'},\n",
    "                    {'name': '김새롬', 'age': 18, 'job': '학생', 'hobby': 'study'},\n",
    "                    {'name': '이영자', 'age': 45, 'job': '상담사', 'hobby': 'talk'},\n",
    "                    {'name':  '강호동', 'age': 38, 'job': '연예인', 'hobby': 'talk'}]\n",
    "type(friend_dict_list)"
   ]
  },
  {
   "cell_type": "code",
   "execution_count": 231,
   "metadata": {},
   "outputs": [
    {
     "name": "stdout",
     "output_type": "stream",
     "text": [
      "  name  age  job  hobby\n",
      "0  신동엽   20  연예인  music\n",
      "1  유재석   41   교수    art\n",
      "2  김새롬   18   학생  study\n",
      "3  이영자   45  상담사   talk\n",
      "4  강호동   38  연예인   talk\n",
      "<class 'pandas.core.frame.DataFrame'>\n"
     ]
    }
   ],
   "source": [
    "df = pd.DataFrame(friend_dict_list)\n",
    "print(df)\n",
    "print(type(df))"
   ]
  },
  {
   "cell_type": "markdown",
   "metadata": {},
   "source": [
    "### 중복 데이터 제거 기술"
   ]
  },
  {
   "cell_type": "code",
   "execution_count": 233,
   "metadata": {},
   "outputs": [
    {
     "data": {
      "text/plain": [
       "0    False\n",
       "1    False\n",
       "2    False\n",
       "3    False\n",
       "4    False\n",
       "5     True\n",
       "dtype: bool"
      ]
     },
     "execution_count": 233,
     "metadata": {},
     "output_type": "execute_result"
    }
   ],
   "source": [
    "friend_dict_list = [{'name': '신동엽', 'age': 20, 'job': '연예인', 'hobby': 'music'},\n",
    "                    {'name': '유재석', 'age': 41, 'job': '교수', 'hobby': 'art'},\n",
    "                    {'name': '김새롬', 'age': 18, 'job': '학생', 'hobby': 'study'},\n",
    "                    {'name': '이영자', 'age': 45, 'job': '상담사', 'hobby': 'talk'},\n",
    "                    {'name':  '강호동', 'age': 38, 'job': '연예인', 'hobby': 'talk'},\n",
    "                    {'name': '신동엽', 'age': 20, 'job': '연예인', 'hobby': 'music'}]\n",
    "\n",
    "df = pd.DataFrame(friend_dict_list)\n",
    "df.duplicated()"
   ]
  },
  {
   "cell_type": "code",
   "execution_count": 234,
   "metadata": {},
   "outputs": [
    {
     "data": {
      "text/html": [
       "<div>\n",
       "<style scoped>\n",
       "    .dataframe tbody tr th:only-of-type {\n",
       "        vertical-align: middle;\n",
       "    }\n",
       "\n",
       "    .dataframe tbody tr th {\n",
       "        vertical-align: top;\n",
       "    }\n",
       "\n",
       "    .dataframe thead th {\n",
       "        text-align: right;\n",
       "    }\n",
       "</style>\n",
       "<table border=\"1\" class=\"dataframe\">\n",
       "  <thead>\n",
       "    <tr style=\"text-align: right;\">\n",
       "      <th></th>\n",
       "      <th>name</th>\n",
       "      <th>age</th>\n",
       "      <th>job</th>\n",
       "      <th>hobby</th>\n",
       "    </tr>\n",
       "  </thead>\n",
       "  <tbody>\n",
       "    <tr>\n",
       "      <th>0</th>\n",
       "      <td>신동엽</td>\n",
       "      <td>20</td>\n",
       "      <td>연예인</td>\n",
       "      <td>music</td>\n",
       "    </tr>\n",
       "    <tr>\n",
       "      <th>1</th>\n",
       "      <td>유재석</td>\n",
       "      <td>41</td>\n",
       "      <td>교수</td>\n",
       "      <td>art</td>\n",
       "    </tr>\n",
       "    <tr>\n",
       "      <th>2</th>\n",
       "      <td>김새롬</td>\n",
       "      <td>18</td>\n",
       "      <td>학생</td>\n",
       "      <td>study</td>\n",
       "    </tr>\n",
       "    <tr>\n",
       "      <th>3</th>\n",
       "      <td>이영자</td>\n",
       "      <td>45</td>\n",
       "      <td>상담사</td>\n",
       "      <td>talk</td>\n",
       "    </tr>\n",
       "    <tr>\n",
       "      <th>4</th>\n",
       "      <td>강호동</td>\n",
       "      <td>38</td>\n",
       "      <td>연예인</td>\n",
       "      <td>talk</td>\n",
       "    </tr>\n",
       "  </tbody>\n",
       "</table>\n",
       "</div>"
      ],
      "text/plain": [
       "  name  age  job  hobby\n",
       "0  신동엽   20  연예인  music\n",
       "1  유재석   41   교수    art\n",
       "2  김새롬   18   학생  study\n",
       "3  이영자   45  상담사   talk\n",
       "4  강호동   38  연예인   talk"
      ]
     },
     "execution_count": 234,
     "metadata": {},
     "output_type": "execute_result"
    }
   ],
   "source": [
    "# duplicated 결과값으로 true인 놈을 삭제.\n",
    "df = df.drop_duplicates() # 복제본 삭제.\n",
    "df"
   ]
  },
  {
   "cell_type": "code",
   "execution_count": 235,
   "metadata": {},
   "outputs": [
    {
     "data": {
      "text/html": [
       "<div>\n",
       "<style scoped>\n",
       "    .dataframe tbody tr th:only-of-type {\n",
       "        vertical-align: middle;\n",
       "    }\n",
       "\n",
       "    .dataframe tbody tr th {\n",
       "        vertical-align: top;\n",
       "    }\n",
       "\n",
       "    .dataframe thead th {\n",
       "        text-align: right;\n",
       "    }\n",
       "</style>\n",
       "<table border=\"1\" class=\"dataframe\">\n",
       "  <thead>\n",
       "    <tr style=\"text-align: right;\">\n",
       "      <th></th>\n",
       "      <th>name</th>\n",
       "      <th>age</th>\n",
       "      <th>job</th>\n",
       "      <th>hobby</th>\n",
       "    </tr>\n",
       "  </thead>\n",
       "  <tbody>\n",
       "    <tr>\n",
       "      <th>0</th>\n",
       "      <td>신동엽</td>\n",
       "      <td>20</td>\n",
       "      <td>연예인</td>\n",
       "      <td>music</td>\n",
       "    </tr>\n",
       "    <tr>\n",
       "      <th>1</th>\n",
       "      <td>유재석</td>\n",
       "      <td>41</td>\n",
       "      <td>교수</td>\n",
       "      <td>art</td>\n",
       "    </tr>\n",
       "    <tr>\n",
       "      <th>2</th>\n",
       "      <td>김새롬</td>\n",
       "      <td>18</td>\n",
       "      <td>학생</td>\n",
       "      <td>study</td>\n",
       "    </tr>\n",
       "    <tr>\n",
       "      <th>3</th>\n",
       "      <td>이영자</td>\n",
       "      <td>45</td>\n",
       "      <td>상담사</td>\n",
       "      <td>talk</td>\n",
       "    </tr>\n",
       "    <tr>\n",
       "      <th>4</th>\n",
       "      <td>강호동</td>\n",
       "      <td>38</td>\n",
       "      <td>연예인</td>\n",
       "      <td>talk</td>\n",
       "    </tr>\n",
       "    <tr>\n",
       "      <th>5</th>\n",
       "      <td>신동엽</td>\n",
       "      <td>20</td>\n",
       "      <td>연예인</td>\n",
       "      <td>music</td>\n",
       "    </tr>\n",
       "  </tbody>\n",
       "</table>\n",
       "</div>"
      ],
      "text/plain": [
       "  name  age  job  hobby\n",
       "0  신동엽   20  연예인  music\n",
       "1  유재석   41   교수    art\n",
       "2  김새롬   18   학생  study\n",
       "3  이영자   45  상담사   talk\n",
       "4  강호동   38  연예인   talk\n",
       "5  신동엽   20  연예인  music"
      ]
     },
     "execution_count": 235,
     "metadata": {},
     "output_type": "execute_result"
    }
   ],
   "source": [
    "# step02 - 속성으로 선별해서 삭제\n",
    "\n",
    "friend_dict_list = [{'name': '신동엽', 'age': 20, 'job': '연예인', 'hobby':'music'},\n",
    "                     {'name': '유재석', 'age': 41, 'job': '교수', 'hobby':'art'},\n",
    "                     {'name': '김새롬', 'age': 18, 'job': '학생', 'hobby':'study'},\n",
    "                     {'name': '이영자', 'age' : 45, 'job': '상담사', 'hobby' : 'talk'},\n",
    "                     {'name' :  '강호동', 'age' : 38, 'job' : '연예인', 'hobby' : 'talk'},\n",
    "                    {'name': '신동엽', 'age': 20, 'job': '연예인', 'hobby':'music'} ]\n",
    "\n",
    "df = pd.DataFrame(friend_dict_list)\n",
    "df"
   ]
  },
  {
   "cell_type": "code",
   "execution_count": 236,
   "metadata": {},
   "outputs": [
    {
     "data": {
      "text/html": [
       "<div>\n",
       "<style scoped>\n",
       "    .dataframe tbody tr th:only-of-type {\n",
       "        vertical-align: middle;\n",
       "    }\n",
       "\n",
       "    .dataframe tbody tr th {\n",
       "        vertical-align: top;\n",
       "    }\n",
       "\n",
       "    .dataframe thead th {\n",
       "        text-align: right;\n",
       "    }\n",
       "</style>\n",
       "<table border=\"1\" class=\"dataframe\">\n",
       "  <thead>\n",
       "    <tr style=\"text-align: right;\">\n",
       "      <th></th>\n",
       "      <th>name</th>\n",
       "      <th>age</th>\n",
       "      <th>job</th>\n",
       "      <th>hobby</th>\n",
       "    </tr>\n",
       "  </thead>\n",
       "  <tbody>\n",
       "    <tr>\n",
       "      <th>1</th>\n",
       "      <td>유재석</td>\n",
       "      <td>41</td>\n",
       "      <td>교수</td>\n",
       "      <td>art</td>\n",
       "    </tr>\n",
       "    <tr>\n",
       "      <th>2</th>\n",
       "      <td>김새롬</td>\n",
       "      <td>18</td>\n",
       "      <td>학생</td>\n",
       "      <td>study</td>\n",
       "    </tr>\n",
       "    <tr>\n",
       "      <th>3</th>\n",
       "      <td>이영자</td>\n",
       "      <td>45</td>\n",
       "      <td>상담사</td>\n",
       "      <td>talk</td>\n",
       "    </tr>\n",
       "    <tr>\n",
       "      <th>4</th>\n",
       "      <td>강호동</td>\n",
       "      <td>38</td>\n",
       "      <td>연예인</td>\n",
       "      <td>talk</td>\n",
       "    </tr>\n",
       "    <tr>\n",
       "      <th>5</th>\n",
       "      <td>신동엽</td>\n",
       "      <td>20</td>\n",
       "      <td>연예인</td>\n",
       "      <td>music</td>\n",
       "    </tr>\n",
       "  </tbody>\n",
       "</table>\n",
       "</div>"
      ],
      "text/plain": [
       "  name  age  job  hobby\n",
       "1  유재석   41   교수    art\n",
       "2  김새롬   18   학생  study\n",
       "3  이영자   45  상담사   talk\n",
       "4  강호동   38  연예인   talk\n",
       "5  신동엽   20  연예인  music"
      ]
     },
     "execution_count": 236,
     "metadata": {},
     "output_type": "execute_result"
    }
   ],
   "source": [
    "df.drop_duplicates(keep='last')"
   ]
  },
  {
   "cell_type": "code",
   "execution_count": null,
   "metadata": {},
   "outputs": [],
   "source": [
    "# step03 - 동명이인일 경우에 선별해서 삭제\n",
    "\n",
    "friend_dict_list = [{'name': '신동엽', 'age': 20, 'job': '연예인', 'hobby': 'music'},\n",
    "                    {'name': '유재석', 'age': 41, 'job': '교수', 'hobby': 'art'},\n",
    "                    {'name': '김새롬', 'age': 18, 'job': '학생', 'hobby': 'study'},\n",
    "                    {'name': '이영자', 'age': 45, 'job': '상담사', 'hobby': 'talk'},\n",
    "                    {'name':  '강호동', 'age': 38, 'job': '연예인', 'hobby': 'talk'},\n",
    "                    {'name': '신동엽', 'age': 50, 'job': '연예인', 'hobby': 'music'}]\n",
    "\n",
    "df = pd.DataFrame(friend_dict_list)\n",
    "df"
   ]
  },
  {
   "cell_type": "code",
   "execution_count": 237,
   "metadata": {},
   "outputs": [
    {
     "data": {
      "text/html": [
       "<div>\n",
       "<style scoped>\n",
       "    .dataframe tbody tr th:only-of-type {\n",
       "        vertical-align: middle;\n",
       "    }\n",
       "\n",
       "    .dataframe tbody tr th {\n",
       "        vertical-align: top;\n",
       "    }\n",
       "\n",
       "    .dataframe thead th {\n",
       "        text-align: right;\n",
       "    }\n",
       "</style>\n",
       "<table border=\"1\" class=\"dataframe\">\n",
       "  <thead>\n",
       "    <tr style=\"text-align: right;\">\n",
       "      <th></th>\n",
       "      <th>name</th>\n",
       "      <th>age</th>\n",
       "      <th>job</th>\n",
       "      <th>hobby</th>\n",
       "    </tr>\n",
       "  </thead>\n",
       "  <tbody>\n",
       "    <tr>\n",
       "      <th>1</th>\n",
       "      <td>유재석</td>\n",
       "      <td>41</td>\n",
       "      <td>교수</td>\n",
       "      <td>art</td>\n",
       "    </tr>\n",
       "    <tr>\n",
       "      <th>2</th>\n",
       "      <td>김새롬</td>\n",
       "      <td>18</td>\n",
       "      <td>학생</td>\n",
       "      <td>study</td>\n",
       "    </tr>\n",
       "    <tr>\n",
       "      <th>3</th>\n",
       "      <td>이영자</td>\n",
       "      <td>45</td>\n",
       "      <td>상담사</td>\n",
       "      <td>talk</td>\n",
       "    </tr>\n",
       "    <tr>\n",
       "      <th>4</th>\n",
       "      <td>강호동</td>\n",
       "      <td>38</td>\n",
       "      <td>연예인</td>\n",
       "      <td>talk</td>\n",
       "    </tr>\n",
       "    <tr>\n",
       "      <th>5</th>\n",
       "      <td>신동엽</td>\n",
       "      <td>20</td>\n",
       "      <td>연예인</td>\n",
       "      <td>music</td>\n",
       "    </tr>\n",
       "  </tbody>\n",
       "</table>\n",
       "</div>"
      ],
      "text/plain": [
       "  name  age  job  hobby\n",
       "1  유재석   41   교수    art\n",
       "2  김새롬   18   학생  study\n",
       "3  이영자   45  상담사   talk\n",
       "4  강호동   38  연예인   talk\n",
       "5  신동엽   20  연예인  music"
      ]
     },
     "execution_count": 237,
     "metadata": {},
     "output_type": "execute_result"
    }
   ],
   "source": [
    "# 원본 DataFrame에서 새로 생성된 DataFrame 객체.\n",
    "# df에 대입하지 않을 경우 원본은 유지.\n",
    "df.drop_duplicates('name',keep='last')"
   ]
  },
  {
   "cell_type": "code",
   "execution_count": null,
   "metadata": {},
   "outputs": [],
   "source": [
    "# step04 - 원본 DataFrame 자체에 수정 사항 바로 반영하는 속성\n",
    "\n",
    "friend_dict_list = [{'name': '신동엽', 'age': 20, 'job': '연예인', 'hobby': 'music'},\n",
    "                    {'name': '유재석', 'age': 41, 'job': '교수', 'hobby': 'art'},\n",
    "                    {'name': '김새롬', 'age': 18, 'job': '학생', 'hobby': 'study'},\n",
    "                    {'name': '이영자', 'age': 45, 'job': '상담사', 'hobby': 'talk'},\n",
    "                    {'name':  '강호동', 'age': 38, 'job': '연예인', 'hobby': 'talk'},\n",
    "                    {'name': '신동엽', 'age': 50, 'job': '연예인', 'hobby': 'music'}]\n",
    "\n",
    "df = pd.DataFrame(friend_dict_list)\n",
    "df"
   ]
  },
  {
   "cell_type": "code",
   "execution_count": 238,
   "metadata": {},
   "outputs": [],
   "source": [
    "df.drop_duplicates('name',keep='last',inplace = True)"
   ]
  },
  {
   "cell_type": "code",
   "execution_count": null,
   "metadata": {},
   "outputs": [],
   "source": []
  },
  {
   "cell_type": "markdown",
   "metadata": {},
   "source": [
    "### 결측치 처리"
   ]
  },
  {
   "cell_type": "code",
   "execution_count": 272,
   "metadata": {},
   "outputs": [
    {
     "data": {
      "text/html": [
       "<div>\n",
       "<style scoped>\n",
       "    .dataframe tbody tr th:only-of-type {\n",
       "        vertical-align: middle;\n",
       "    }\n",
       "\n",
       "    .dataframe tbody tr th {\n",
       "        vertical-align: top;\n",
       "    }\n",
       "\n",
       "    .dataframe thead th {\n",
       "        text-align: right;\n",
       "    }\n",
       "</style>\n",
       "<table border=\"1\" class=\"dataframe\">\n",
       "  <thead>\n",
       "    <tr style=\"text-align: right;\">\n",
       "      <th></th>\n",
       "      <th>name</th>\n",
       "      <th>age</th>\n",
       "      <th>job</th>\n",
       "      <th>hobby</th>\n",
       "    </tr>\n",
       "  </thead>\n",
       "  <tbody>\n",
       "    <tr>\n",
       "      <th>0</th>\n",
       "      <td>신동엽</td>\n",
       "      <td>20.0</td>\n",
       "      <td>연예인</td>\n",
       "      <td>music</td>\n",
       "    </tr>\n",
       "    <tr>\n",
       "      <th>1</th>\n",
       "      <td>유재석</td>\n",
       "      <td>41.0</td>\n",
       "      <td>교수</td>\n",
       "      <td>art</td>\n",
       "    </tr>\n",
       "    <tr>\n",
       "      <th>2</th>\n",
       "      <td>김새롬</td>\n",
       "      <td>18.0</td>\n",
       "      <td>학생</td>\n",
       "      <td>study</td>\n",
       "    </tr>\n",
       "    <tr>\n",
       "      <th>3</th>\n",
       "      <td>이영자</td>\n",
       "      <td>45.0</td>\n",
       "      <td>상담사</td>\n",
       "      <td>talk</td>\n",
       "    </tr>\n",
       "    <tr>\n",
       "      <th>4</th>\n",
       "      <td>강호동</td>\n",
       "      <td>38.0</td>\n",
       "      <td>연예인</td>\n",
       "      <td>talk</td>\n",
       "    </tr>\n",
       "    <tr>\n",
       "      <th>5</th>\n",
       "      <td>신동엽</td>\n",
       "      <td>NaN</td>\n",
       "      <td>연예인</td>\n",
       "      <td>music</td>\n",
       "    </tr>\n",
       "  </tbody>\n",
       "</table>\n",
       "</div>"
      ],
      "text/plain": [
       "  name   age  job  hobby\n",
       "0  신동엽  20.0  연예인  music\n",
       "1  유재석  41.0   교수    art\n",
       "2  김새롬  18.0   학생  study\n",
       "3  이영자  45.0  상담사   talk\n",
       "4  강호동  38.0  연예인   talk\n",
       "5  신동엽   NaN  연예인  music"
      ]
     },
     "execution_count": 272,
     "metadata": {},
     "output_type": "execute_result"
    }
   ],
   "source": [
    "friend_dict_list = [{'name': '신동엽', 'age': 20, 'job': '연예인', 'hobby': 'music'},\n",
    "                    {'name': '유재석', 'age': 41, 'job': '교수', 'hobby': 'art'},\n",
    "                    {'name': '김새롬', 'age': 18, 'job': '학생', 'hobby': 'study'},\n",
    "                    {'name': '이영자', 'age': 45, 'job': '상담사', 'hobby': 'talk'},\n",
    "                    {'name':  '강호동', 'age': 38, 'job': '연예인', 'hobby': 'talk'},\n",
    "                    {'name': '신동엽', 'age': None, 'job': '연예인', 'hobby': 'music'}]\n",
    "df = pd.DataFrame(friend_dict_list)\n",
    "df"
   ]
  },
  {
   "cell_type": "code",
   "execution_count": 277,
   "metadata": {},
   "outputs": [
    {
     "name": "stdout",
     "output_type": "stream",
     "text": [
      "  name   age  job  hobby\n",
      "0  신동엽  20.0  연예인  music\n",
      "1  유재석  41.0   교수    art\n",
      "2  김새롬  18.0   학생  study\n",
      "3  이영자  45.0  상담사   talk\n",
      "4  강호동  38.0  연예인   talk\n",
      "5  신동엽  32.4  연예인  music\n"
     ]
    }
   ],
   "source": [
    "# index명 5라는 위치의 신동엽의 age는 결측치\n",
    "# info() 로 non-null 값으로 결측치 여부 확인 가능\n",
    "\n",
    "# 저 결측치를 어떻게 처리 할까?\n",
    "# age는 절대 결측치일리가 없음, 나이가 없는 친구가 없기 때문\n",
    "# age의 Non은 어떻게 할까? 지울까? 대체?(평균? 중앙값? 최빈값?...)\n",
    "# df.info()\n",
    "# df['age'] = np.where(df['age'] is None, df['age'].mean())\n",
    "# df['age'].sum()\n",
    "df.fillna(df['age'].mean(), inplace=True)\n",
    "print(df)\n",
    "# df\n",
    "# np.where( df['job'] != '학생', 'yes', 'no')"
   ]
  },
  {
   "cell_type": "code",
   "execution_count": null,
   "metadata": {},
   "outputs": [],
   "source": []
  },
  {
   "cell_type": "markdown",
   "metadata": {},
   "source": [
    "### 그룹화 하기"
   ]
  },
  {
   "cell_type": "code",
   "execution_count": null,
   "metadata": {},
   "outputs": [],
   "source": []
  },
  {
   "cell_type": "code",
   "execution_count": 279,
   "metadata": {},
   "outputs": [
    {
     "data": {
      "text/plain": [
       "<pandas.core.groupby.generic.DataFrameGroupBy object at 0x0000028E2E406430>"
      ]
     },
     "execution_count": 279,
     "metadata": {},
     "output_type": "execute_result"
    }
   ],
   "source": [
    "# None 값을 0 값으로 치환\n",
    "\n",
    "friend_dict_list = [{'name': '신동엽', 'age': 20, 'job': '연예인', 'hobby': 'music'},\n",
    "                    {'name': '유재석', 'age': 41, 'job': '교수', 'hobby': 'art'},\n",
    "                    {'name': '김새롬', 'age': 18, 'job': '학생', 'hobby': 'study'},\n",
    "                    {'name': '이영자', 'age': 45, 'job': '상담사', 'hobby': 'talk'},\n",
    "                    {'name':  '강호동', 'age': 38, 'job': '연예인', 'hobby': 'talk'},\n",
    "                    {'name': '신동엽', 'age': None, 'job': '연예인', 'hobby': 'music'}]\n",
    "\n",
    "df = pd.DataFrame(friend_dict_list)\n",
    "df['age'].fillna(df['age'].mean(), inplace=True)\n",
    "df.groupby('job')"
   ]
  },
  {
   "cell_type": "code",
   "execution_count": 282,
   "metadata": {},
   "outputs": [
    {
     "data": {
      "text/plain": [
       "연예인    3\n",
       "교수     1\n",
       "학생     1\n",
       "상담사    1\n",
       "Name: job, dtype: int64"
      ]
     },
     "execution_count": 282,
     "metadata": {},
     "output_type": "execute_result"
    }
   ],
   "source": [
    "df['job'].unique()\n",
    "df['job'].value_counts()"
   ]
  },
  {
   "cell_type": "code",
   "execution_count": 285,
   "metadata": {},
   "outputs": [
    {
     "data": {
      "text/html": [
       "<div>\n",
       "<style scoped>\n",
       "    .dataframe tbody tr th:only-of-type {\n",
       "        vertical-align: middle;\n",
       "    }\n",
       "\n",
       "    .dataframe tbody tr th {\n",
       "        vertical-align: top;\n",
       "    }\n",
       "\n",
       "    .dataframe thead th {\n",
       "        text-align: right;\n",
       "    }\n",
       "</style>\n",
       "<table border=\"1\" class=\"dataframe\">\n",
       "  <thead>\n",
       "    <tr style=\"text-align: right;\">\n",
       "      <th></th>\n",
       "      <th>age</th>\n",
       "    </tr>\n",
       "    <tr>\n",
       "      <th>job</th>\n",
       "      <th></th>\n",
       "    </tr>\n",
       "  </thead>\n",
       "  <tbody>\n",
       "    <tr>\n",
       "      <th>교수</th>\n",
       "      <td>41.000000</td>\n",
       "    </tr>\n",
       "    <tr>\n",
       "      <th>상담사</th>\n",
       "      <td>45.000000</td>\n",
       "    </tr>\n",
       "    <tr>\n",
       "      <th>연예인</th>\n",
       "      <td>30.133333</td>\n",
       "    </tr>\n",
       "    <tr>\n",
       "      <th>학생</th>\n",
       "      <td>18.000000</td>\n",
       "    </tr>\n",
       "  </tbody>\n",
       "</table>\n",
       "</div>"
      ],
      "text/plain": [
       "           age\n",
       "job           \n",
       "교수   41.000000\n",
       "상담사  45.000000\n",
       "연예인  30.133333\n",
       "학생   18.000000"
      ]
     },
     "execution_count": 285,
     "metadata": {},
     "output_type": "execute_result"
    }
   ],
   "source": [
    "df.groupby('job').mean()"
   ]
  },
  {
   "cell_type": "code",
   "execution_count": 287,
   "metadata": {},
   "outputs": [
    {
     "data": {
      "text/plain": [
       "array(['연예인', '교수', '학생', '상담사'], dtype=object)"
      ]
     },
     "execution_count": 287,
     "metadata": {},
     "output_type": "execute_result"
    }
   ],
   "source": [
    "df['job'].unique()"
   ]
  },
  {
   "cell_type": "code",
   "execution_count": 294,
   "metadata": {},
   "outputs": [
    {
     "data": {
      "text/html": [
       "<div>\n",
       "<style scoped>\n",
       "    .dataframe tbody tr th:only-of-type {\n",
       "        vertical-align: middle;\n",
       "    }\n",
       "\n",
       "    .dataframe tbody tr th {\n",
       "        vertical-align: top;\n",
       "    }\n",
       "\n",
       "    .dataframe thead th {\n",
       "        text-align: right;\n",
       "    }\n",
       "</style>\n",
       "<table border=\"1\" class=\"dataframe\">\n",
       "  <thead>\n",
       "    <tr style=\"text-align: right;\">\n",
       "      <th></th>\n",
       "      <th>name</th>\n",
       "      <th>age</th>\n",
       "      <th>job</th>\n",
       "      <th>hobby</th>\n",
       "    </tr>\n",
       "  </thead>\n",
       "  <tbody>\n",
       "    <tr>\n",
       "      <th>0</th>\n",
       "      <td>신동엽</td>\n",
       "      <td>20.0</td>\n",
       "      <td>연예인</td>\n",
       "      <td>music</td>\n",
       "    </tr>\n",
       "    <tr>\n",
       "      <th>1</th>\n",
       "      <td>유재석</td>\n",
       "      <td>41.0</td>\n",
       "      <td>교수</td>\n",
       "      <td>art</td>\n",
       "    </tr>\n",
       "    <tr>\n",
       "      <th>2</th>\n",
       "      <td>김새롬</td>\n",
       "      <td>18.0</td>\n",
       "      <td>학생</td>\n",
       "      <td>study</td>\n",
       "    </tr>\n",
       "    <tr>\n",
       "      <th>3</th>\n",
       "      <td>이영자</td>\n",
       "      <td>45.0</td>\n",
       "      <td>상담사</td>\n",
       "      <td>talk</td>\n",
       "    </tr>\n",
       "    <tr>\n",
       "      <th>4</th>\n",
       "      <td>강호동</td>\n",
       "      <td>38.0</td>\n",
       "      <td>연예인</td>\n",
       "      <td>talk</td>\n",
       "    </tr>\n",
       "    <tr>\n",
       "      <th>5</th>\n",
       "      <td>신동엽</td>\n",
       "      <td>NaN</td>\n",
       "      <td>연예인</td>\n",
       "      <td>music</td>\n",
       "    </tr>\n",
       "  </tbody>\n",
       "</table>\n",
       "</div>"
      ],
      "text/plain": [
       "  name   age  job  hobby\n",
       "0  신동엽  20.0  연예인  music\n",
       "1  유재석  41.0   교수    art\n",
       "2  김새롬  18.0   학생  study\n",
       "3  이영자  45.0  상담사   talk\n",
       "4  강호동  38.0  연예인   talk\n",
       "5  신동엽   NaN  연예인  music"
      ]
     },
     "execution_count": 294,
     "metadata": {},
     "output_type": "execute_result"
    }
   ],
   "source": [
    "df.iloc[5,1] = np.nan\n",
    "df"
   ]
  },
  {
   "cell_type": "code",
   "execution_count": 295,
   "metadata": {},
   "outputs": [
    {
     "data": {
      "text/plain": [
       "0    29.0\n",
       "1    41.0\n",
       "2    18.0\n",
       "3    45.0\n",
       "4    29.0\n",
       "5    29.0\n",
       "Name: age, dtype: float64"
      ]
     },
     "execution_count": 295,
     "metadata": {},
     "output_type": "execute_result"
    }
   ],
   "source": [
    "df.groupby('job')['age'].transform('median')"
   ]
  },
  {
   "cell_type": "code",
   "execution_count": 297,
   "metadata": {},
   "outputs": [
    {
     "data": {
      "text/html": [
       "<div>\n",
       "<style scoped>\n",
       "    .dataframe tbody tr th:only-of-type {\n",
       "        vertical-align: middle;\n",
       "    }\n",
       "\n",
       "    .dataframe tbody tr th {\n",
       "        vertical-align: top;\n",
       "    }\n",
       "\n",
       "    .dataframe thead th {\n",
       "        text-align: right;\n",
       "    }\n",
       "</style>\n",
       "<table border=\"1\" class=\"dataframe\">\n",
       "  <thead>\n",
       "    <tr style=\"text-align: right;\">\n",
       "      <th></th>\n",
       "      <th>name</th>\n",
       "      <th>age</th>\n",
       "      <th>job</th>\n",
       "      <th>hobby</th>\n",
       "    </tr>\n",
       "  </thead>\n",
       "  <tbody>\n",
       "    <tr>\n",
       "      <th>0</th>\n",
       "      <td>신동엽</td>\n",
       "      <td>29.0</td>\n",
       "      <td>연예인</td>\n",
       "      <td>music</td>\n",
       "    </tr>\n",
       "    <tr>\n",
       "      <th>1</th>\n",
       "      <td>유재석</td>\n",
       "      <td>41.0</td>\n",
       "      <td>교수</td>\n",
       "      <td>art</td>\n",
       "    </tr>\n",
       "    <tr>\n",
       "      <th>2</th>\n",
       "      <td>김새롬</td>\n",
       "      <td>18.0</td>\n",
       "      <td>학생</td>\n",
       "      <td>study</td>\n",
       "    </tr>\n",
       "    <tr>\n",
       "      <th>3</th>\n",
       "      <td>이영자</td>\n",
       "      <td>45.0</td>\n",
       "      <td>상담사</td>\n",
       "      <td>talk</td>\n",
       "    </tr>\n",
       "    <tr>\n",
       "      <th>4</th>\n",
       "      <td>강호동</td>\n",
       "      <td>29.0</td>\n",
       "      <td>연예인</td>\n",
       "      <td>talk</td>\n",
       "    </tr>\n",
       "    <tr>\n",
       "      <th>5</th>\n",
       "      <td>신동엽</td>\n",
       "      <td>29.0</td>\n",
       "      <td>연예인</td>\n",
       "      <td>music</td>\n",
       "    </tr>\n",
       "  </tbody>\n",
       "</table>\n",
       "</div>"
      ],
      "text/plain": [
       "  name   age  job  hobby\n",
       "0  신동엽  29.0  연예인  music\n",
       "1  유재석  41.0   교수    art\n",
       "2  김새롬  18.0   학생  study\n",
       "3  이영자  45.0  상담사   talk\n",
       "4  강호동  29.0  연예인   talk\n",
       "5  신동엽  29.0  연예인  music"
      ]
     },
     "execution_count": 297,
     "metadata": {},
     "output_type": "execute_result"
    }
   ],
   "source": [
    "# 결측치 중앙값으로 치환\n",
    "# 각 job 별로 중앙값ㅇ\n",
    "df['age'] = df.groupby('job')['age'].transform('median')\n",
    "df"
   ]
  },
  {
   "cell_type": "markdown",
   "metadata": {},
   "source": [
    "1. job 종류 확인 : unique()\n",
    "2. job 별 개수 확인 :  value_counts()"
   ]
  },
  {
   "cell_type": "code",
   "execution_count": 303,
   "metadata": {},
   "outputs": [
    {
     "data": {
      "text/html": [
       "<div>\n",
       "<style scoped>\n",
       "    .dataframe tbody tr th:only-of-type {\n",
       "        vertical-align: middle;\n",
       "    }\n",
       "\n",
       "    .dataframe tbody tr th {\n",
       "        vertical-align: top;\n",
       "    }\n",
       "\n",
       "    .dataframe thead th {\n",
       "        text-align: right;\n",
       "    }\n",
       "</style>\n",
       "<table border=\"1\" class=\"dataframe\">\n",
       "  <thead>\n",
       "    <tr style=\"text-align: right;\">\n",
       "      <th></th>\n",
       "      <th>name</th>\n",
       "      <th>age</th>\n",
       "      <th>job</th>\n",
       "      <th>hobby</th>\n",
       "    </tr>\n",
       "  </thead>\n",
       "  <tbody>\n",
       "    <tr>\n",
       "      <th>0</th>\n",
       "      <td>신동엽</td>\n",
       "      <td>29.0</td>\n",
       "      <td>연예인</td>\n",
       "      <td>music</td>\n",
       "    </tr>\n",
       "    <tr>\n",
       "      <th>1</th>\n",
       "      <td>유재석</td>\n",
       "      <td>34.5</td>\n",
       "      <td>교수</td>\n",
       "      <td>art</td>\n",
       "    </tr>\n",
       "    <tr>\n",
       "      <th>2</th>\n",
       "      <td>김새롬</td>\n",
       "      <td>18.0</td>\n",
       "      <td>학생</td>\n",
       "      <td>study</td>\n",
       "    </tr>\n",
       "    <tr>\n",
       "      <th>3</th>\n",
       "      <td>이영자</td>\n",
       "      <td>42.5</td>\n",
       "      <td>상담사</td>\n",
       "      <td>talk</td>\n",
       "    </tr>\n",
       "    <tr>\n",
       "      <th>4</th>\n",
       "      <td>강호동</td>\n",
       "      <td>29.0</td>\n",
       "      <td>연예인</td>\n",
       "      <td>talk</td>\n",
       "    </tr>\n",
       "    <tr>\n",
       "      <th>5</th>\n",
       "      <td>신동엽</td>\n",
       "      <td>29.0</td>\n",
       "      <td>연예인</td>\n",
       "      <td>music</td>\n",
       "    </tr>\n",
       "    <tr>\n",
       "      <th>6</th>\n",
       "      <td>고현정</td>\n",
       "      <td>44.0</td>\n",
       "      <td>가수</td>\n",
       "      <td>music</td>\n",
       "    </tr>\n",
       "    <tr>\n",
       "      <th>7</th>\n",
       "      <td>박민영</td>\n",
       "      <td>18.0</td>\n",
       "      <td>학생</td>\n",
       "      <td>art</td>\n",
       "    </tr>\n",
       "    <tr>\n",
       "      <th>8</th>\n",
       "      <td>박서준</td>\n",
       "      <td>18.0</td>\n",
       "      <td>학생</td>\n",
       "      <td>study</td>\n",
       "    </tr>\n",
       "    <tr>\n",
       "      <th>9</th>\n",
       "      <td>박보검</td>\n",
       "      <td>42.5</td>\n",
       "      <td>상담사</td>\n",
       "      <td>talk</td>\n",
       "    </tr>\n",
       "    <tr>\n",
       "      <th>10</th>\n",
       "      <td>이효리</td>\n",
       "      <td>34.5</td>\n",
       "      <td>교수</td>\n",
       "      <td>talk</td>\n",
       "    </tr>\n",
       "    <tr>\n",
       "      <th>11</th>\n",
       "      <td>이상순</td>\n",
       "      <td>29.0</td>\n",
       "      <td>주부</td>\n",
       "      <td>music</td>\n",
       "    </tr>\n",
       "  </tbody>\n",
       "</table>\n",
       "</div>"
      ],
      "text/plain": [
       "   name   age  job  hobby\n",
       "0   신동엽  29.0  연예인  music\n",
       "1   유재석  34.5   교수    art\n",
       "2   김새롬  18.0   학생  study\n",
       "3   이영자  42.5  상담사   talk\n",
       "4   강호동  29.0  연예인   talk\n",
       "5   신동엽  29.0  연예인  music\n",
       "6   고현정  44.0   가수  music\n",
       "7   박민영  18.0   학생    art\n",
       "8   박서준  18.0   학생  study\n",
       "9   박보검  42.5  상담사   talk\n",
       "10  이효리  34.5   교수   talk\n",
       "11  이상순  29.0   주부  music"
      ]
     },
     "execution_count": 303,
     "metadata": {},
     "output_type": "execute_result"
    }
   ],
   "source": [
    "# 데이터 제공\n",
    "\n",
    "friend_dict_list = [{'name': '신동엽', 'age': 20, 'job': '연예인', 'hobby': 'music'},\n",
    "                    {'name': '유재석', 'age': 41, 'job': '교수', 'hobby': 'art'},\n",
    "                    {'name': '김새롬', 'age': 18, 'job': '학생', 'hobby': 'study'},\n",
    "                    {'name': '이영자', 'age': 45, 'job': '상담사', 'hobby': 'talk'},\n",
    "                    {'name': '강호동', 'age': 38, 'job': '연예인', 'hobby': 'talk'},\n",
    "                    {'name': '신동엽', 'age': None, 'job': '연예인', 'hobby': 'music'},\n",
    "                    {'name': '고현정', 'age': 44, 'job': '가수', 'hobby': 'music'},\n",
    "                    {'name': '박민영', 'age': 22, 'job': '학생', 'hobby': 'art'},\n",
    "                    {'name': '박서준', 'age': 18, 'job': '학생', 'hobby': 'study'},\n",
    "                    {'name': '박보검', 'age': 40, 'job': '상담사', 'hobby': 'talk'},\n",
    "                    {'name': '이효리', 'age': 28, 'job': '교수', 'hobby': 'talk'},\n",
    "                    {'name': '이상순', 'age': 29, 'job': '주부', 'hobby': 'music'}]\n",
    "\n",
    "df = pd.DataFrame(friend_dict_list)\n",
    "df\n",
    "df['age'] = df.groupby('job')['age'].transform('median')\n",
    "df\n",
    "\n",
    "# df['job'].value_counts()"
   ]
  },
  {
   "cell_type": "markdown",
   "metadata": {},
   "source": [
    "### 조건 기반 필터링\n",
    "\n",
    "- Pandas의 비교 및 논리 연산자\n",
    "- 비교 연산자는 기본 연산자를 사용\n",
    "- AND : &\n",
    "- OR : |\n",
    "- NOT : ~\n",
    "- 논리 연산에 기본 연산자를 사용할 경우 객체\n",
    "전체의 참을 계산하기 때문에 오류 발생\n",
    "- 각 표현은 괄호로 묶는 것은 권장"
   ]
  },
  {
   "cell_type": "code",
   "execution_count": 309,
   "metadata": {},
   "outputs": [
    {
     "data": {
      "text/plain": [
       "0     False\n",
       "1     False\n",
       "2      True\n",
       "3     False\n",
       "4     False\n",
       "5     False\n",
       "6     False\n",
       "7     False\n",
       "8     False\n",
       "9     False\n",
       "10    False\n",
       "11    False\n",
       "dtype: bool"
      ]
     },
     "execution_count": 309,
     "metadata": {},
     "output_type": "execute_result"
    }
   ],
   "source": [
    "f1 = df.name == '김새롬'\n",
    "f2 = df.job == '학생'\n",
    "f1 & f2"
   ]
  },
  {
   "cell_type": "code",
   "execution_count": 311,
   "metadata": {},
   "outputs": [
    {
     "data": {
      "text/html": [
       "<div>\n",
       "<style scoped>\n",
       "    .dataframe tbody tr th:only-of-type {\n",
       "        vertical-align: middle;\n",
       "    }\n",
       "\n",
       "    .dataframe tbody tr th {\n",
       "        vertical-align: top;\n",
       "    }\n",
       "\n",
       "    .dataframe thead th {\n",
       "        text-align: right;\n",
       "    }\n",
       "</style>\n",
       "<table border=\"1\" class=\"dataframe\">\n",
       "  <thead>\n",
       "    <tr style=\"text-align: right;\">\n",
       "      <th></th>\n",
       "      <th>name</th>\n",
       "      <th>age</th>\n",
       "      <th>job</th>\n",
       "      <th>hobby</th>\n",
       "    </tr>\n",
       "  </thead>\n",
       "  <tbody>\n",
       "    <tr>\n",
       "      <th>2</th>\n",
       "      <td>김새롬</td>\n",
       "      <td>18.0</td>\n",
       "      <td>학생</td>\n",
       "      <td>study</td>\n",
       "    </tr>\n",
       "  </tbody>\n",
       "</table>\n",
       "</div>"
      ],
      "text/plain": [
       "  name   age job  hobby\n",
       "2  김새롬  18.0  학생  study"
      ]
     },
     "execution_count": 311,
     "metadata": {},
     "output_type": "execute_result"
    }
   ],
   "source": [
    "df2 = df[f1 & f2]\n",
    "df2"
   ]
  },
  {
   "cell_type": "code",
   "execution_count": null,
   "metadata": {},
   "outputs": [],
   "source": []
  },
  {
   "cell_type": "markdown",
   "metadata": {},
   "source": [
    "### 두개의 DataFrame 병합하기 - row 기준"
   ]
  },
  {
   "cell_type": "code",
   "execution_count": 312,
   "metadata": {},
   "outputs": [],
   "source": [
    "l1 = [{'name': '이효리', 'job': \"교수\"},\n",
    "      {'name': '이상순', 'job': \"학생\"},\n",
    "      {'name': '박보검', 'job': \"개발자\"}]\n",
    "\n",
    "l2 = [{'name': '신동엽', 'job': \"치과의사\"},\n",
    "      {'name': '이영자', 'job': \"농부\"},\n",
    "      {'name': '정찬우', 'job': \"연예인\"}]"
   ]
  },
  {
   "cell_type": "code",
   "execution_count": 313,
   "metadata": {
    "scrolled": true
   },
   "outputs": [
    {
     "name": "stdout",
     "output_type": "stream",
     "text": [
      "  name  job\n",
      "0  이효리   교수\n",
      "1  이상순   학생\n",
      "2  박보검  개발자\n",
      "<class 'pandas.core.frame.DataFrame'>\n",
      "2\n",
      "(3, 2)\n",
      "--------------------\n",
      "  name   job\n",
      "0  신동엽  치과의사\n",
      "1  이영자    농부\n",
      "2  정찬우   연예인\n"
     ]
    }
   ],
   "source": [
    "df1 = pd.DataFrame(l1, columns=['name', 'job'])\n",
    "df2 = pd.DataFrame(l2, columns=['name', 'job'])\n",
    "\n",
    "print(df1)\n",
    "print(type(df1))\n",
    "print(df1.ndim) # 차원수\n",
    "print(df1.shape) # 행렬수\n",
    "\n",
    "print('-'*20)\n",
    "\n",
    "print(df2)"
   ]
  },
  {
   "cell_type": "code",
   "execution_count": 315,
   "metadata": {},
   "outputs": [
    {
     "data": {
      "text/html": [
       "<div>\n",
       "<style scoped>\n",
       "    .dataframe tbody tr th:only-of-type {\n",
       "        vertical-align: middle;\n",
       "    }\n",
       "\n",
       "    .dataframe tbody tr th {\n",
       "        vertical-align: top;\n",
       "    }\n",
       "\n",
       "    .dataframe thead th {\n",
       "        text-align: right;\n",
       "    }\n",
       "</style>\n",
       "<table border=\"1\" class=\"dataframe\">\n",
       "  <thead>\n",
       "    <tr style=\"text-align: right;\">\n",
       "      <th></th>\n",
       "      <th>name</th>\n",
       "      <th>job</th>\n",
       "    </tr>\n",
       "  </thead>\n",
       "  <tbody>\n",
       "    <tr>\n",
       "      <th>0</th>\n",
       "      <td>이효리</td>\n",
       "      <td>교수</td>\n",
       "    </tr>\n",
       "    <tr>\n",
       "      <th>1</th>\n",
       "      <td>이상순</td>\n",
       "      <td>학생</td>\n",
       "    </tr>\n",
       "    <tr>\n",
       "      <th>2</th>\n",
       "      <td>박보검</td>\n",
       "      <td>개발자</td>\n",
       "    </tr>\n",
       "    <tr>\n",
       "      <th>0</th>\n",
       "      <td>신동엽</td>\n",
       "      <td>치과의사</td>\n",
       "    </tr>\n",
       "    <tr>\n",
       "      <th>1</th>\n",
       "      <td>이영자</td>\n",
       "      <td>농부</td>\n",
       "    </tr>\n",
       "    <tr>\n",
       "      <th>2</th>\n",
       "      <td>정찬우</td>\n",
       "      <td>연예인</td>\n",
       "    </tr>\n",
       "  </tbody>\n",
       "</table>\n",
       "</div>"
      ],
      "text/plain": [
       "  name   job\n",
       "0  이효리    교수\n",
       "1  이상순    학생\n",
       "2  박보검   개발자\n",
       "0  신동엽  치과의사\n",
       "1  이영자    농부\n",
       "2  정찬우   연예인"
      ]
     },
     "execution_count": 315,
     "metadata": {},
     "output_type": "execute_result"
    }
   ],
   "source": [
    "df_all = pd.concat([df1,df2])\n",
    "df_all"
   ]
  },
  {
   "cell_type": "code",
   "execution_count": 320,
   "metadata": {},
   "outputs": [
    {
     "data": {
      "text/html": [
       "<div>\n",
       "<style scoped>\n",
       "    .dataframe tbody tr th:only-of-type {\n",
       "        vertical-align: middle;\n",
       "    }\n",
       "\n",
       "    .dataframe tbody tr th {\n",
       "        vertical-align: top;\n",
       "    }\n",
       "\n",
       "    .dataframe thead th {\n",
       "        text-align: right;\n",
       "    }\n",
       "</style>\n",
       "<table border=\"1\" class=\"dataframe\">\n",
       "  <thead>\n",
       "    <tr style=\"text-align: right;\">\n",
       "      <th></th>\n",
       "      <th>name</th>\n",
       "      <th>job</th>\n",
       "    </tr>\n",
       "  </thead>\n",
       "  <tbody>\n",
       "    <tr>\n",
       "      <th>0</th>\n",
       "      <td>이효리</td>\n",
       "      <td>교수</td>\n",
       "    </tr>\n",
       "    <tr>\n",
       "      <th>1</th>\n",
       "      <td>이상순</td>\n",
       "      <td>학생</td>\n",
       "    </tr>\n",
       "    <tr>\n",
       "      <th>2</th>\n",
       "      <td>박보검</td>\n",
       "      <td>개발자</td>\n",
       "    </tr>\n",
       "    <tr>\n",
       "      <th>3</th>\n",
       "      <td>신동엽</td>\n",
       "      <td>치과의사</td>\n",
       "    </tr>\n",
       "    <tr>\n",
       "      <th>4</th>\n",
       "      <td>이영자</td>\n",
       "      <td>농부</td>\n",
       "    </tr>\n",
       "    <tr>\n",
       "      <th>5</th>\n",
       "      <td>정찬우</td>\n",
       "      <td>연예인</td>\n",
       "    </tr>\n",
       "  </tbody>\n",
       "</table>\n",
       "</div>"
      ],
      "text/plain": [
       "  name   job\n",
       "0  이효리    교수\n",
       "1  이상순    학생\n",
       "2  박보검   개발자\n",
       "3  신동엽  치과의사\n",
       "4  이영자    농부\n",
       "5  정찬우   연예인"
      ]
     },
     "execution_count": 320,
     "metadata": {},
     "output_type": "execute_result"
    }
   ],
   "source": [
    "df_all = pd.concat([df1,df2], axis =0, ignore_index=True)\n",
    "df_all"
   ]
  },
  {
   "cell_type": "markdown",
   "metadata": {},
   "source": [
    "<hr>\n",
    "\n",
    "**미션**\n",
    "\n",
    "1. hobby 종류 확인\n",
    "2. hobby 종류의 총수 확인\n",
    "3. 종류별 개수"
   ]
  },
  {
   "cell_type": "code",
   "execution_count": 327,
   "metadata": {},
   "outputs": [
    {
     "name": "stdout",
     "output_type": "stream",
     "text": [
      "['music' 'art' 'study' 'talk']\n",
      "4\n",
      "talk     2\n",
      "music    2\n",
      "study    1\n",
      "art      1\n",
      "Name: hobby, dtype: int64\n"
     ]
    }
   ],
   "source": [
    "friend_dict_list = [{'name': '신동엽', 'age': 20, 'job': '연예인', 'hobby': 'music'},\n",
    "                    {'name': '유재석', 'age': 41, 'job': '교수', 'hobby': 'art'},\n",
    "                    {'name': '김새롬', 'age': 18, 'job': '학생', 'hobby': 'study'},\n",
    "                    {'name': '이영자', 'age': 45, 'job': '상담사', 'hobby': 'talk'},\n",
    "                    {'name':  '강호동', 'age': 38, 'job': '연예인', 'hobby': 'talk'},\n",
    "                    {'name': '신동엽', 'age': None, 'job': '연예인', 'hobby': 'music'}]\n",
    "\n",
    "df = pd.DataFrame(friend_dict_list)\n",
    "df['age'].fillna(df['age'].mean(), inplace=True)\n",
    "print(df.hobby.unique())\n",
    "print(len(df.hobby.unique()))\n",
    "print(df.hobby.value_counts())\n"
   ]
  }
 ],
 "metadata": {
  "kernelspec": {
   "display_name": "Python 3",
   "language": "python",
   "name": "python3"
  },
  "language_info": {
   "codemirror_mode": {
    "name": "ipython",
    "version": 3
   },
   "file_extension": ".py",
   "mimetype": "text/x-python",
   "name": "python",
   "nbconvert_exporter": "python",
   "pygments_lexer": "ipython3",
   "version": "3.8.5"
  },
  "toc": {
   "base_numbering": 1,
   "nav_menu": {},
   "number_sections": true,
   "sideBar": true,
   "skip_h1_title": false,
   "title_cell": "Table of Contents",
   "title_sidebar": "Contents",
   "toc_cell": false,
   "toc_position": {
    "height": "calc(100% - 180px)",
    "left": "10px",
    "top": "150px",
    "width": "164.977px"
   },
   "toc_section_display": true,
   "toc_window_display": true
  }
 },
 "nbformat": 4,
 "nbformat_minor": 4
}
