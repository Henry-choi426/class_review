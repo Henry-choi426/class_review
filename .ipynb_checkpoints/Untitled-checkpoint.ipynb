{
 "cells": [
  {
   "cell_type": "markdown",
   "metadata": {},
   "source": [
    "1. 입력이 빈 문자열인 경우, 빈 문자열을 반환합니다. \n",
    "2. 문자열 w를 두 \"균형잡힌 괄호 문자열\" u, v로 분리합니다. 단, u는 \"균형잡힌 괄호 문자열\"로 더 이상 분리할 수 없어야 하며, v는 빈 문자열이 될 수 있습니다. \n",
    "3. 문자열 u가 \"올바른 괄호 문자열\" 이라면 문자열 v에 대해 1단계부터 다시 수행합니다. \n",
    "  3-1. 수행한 결과 문자열을 u에 이어 붙인 후 반환합니다. \n",
    "4. 문자열 u가 \"올바른 괄호 문자열\"이 아니라면 아래 과정을 수행합니다. \n",
    "  4-1. 빈 문자열에 첫 번째 문자로 '('를 붙입니다. \n",
    "  4-2. 문자열 v에 대해 1단계부터 재귀적으로 수행한 결과 문자열을 이어 붙입니다. \n",
    "  4-3. ')'를 다시 붙입니다. \n",
    "  4-4. u의 첫 번째와 마지막 문자를 제거하고, 나머지 문자열의 괄호 방향을 뒤집어서 뒤에 붙입니다. \n",
    "  4-5. 생성된 문자열을 반환합니다."
   ]
  },
  {
   "cell_type": "code",
   "execution_count": 20,
   "metadata": {},
   "outputs": [
    {
     "name": "stdout",
     "output_type": "stream",
     "text": [
      "(()())()\n"
     ]
    }
   ],
   "source": [
    "def b_check(d): #균형잡힌 문자열 체크 로직\n",
    "    if d.count('(') == d.count(')'): \n",
    "        return True\n",
    "    else:\n",
    "        return False\n",
    "    \n",
    "def p_check(c): # 올바른 문자열 체크 로직\n",
    "    a = 0\n",
    "    for i in list(c):\n",
    "        if i == '(': # 더하기\n",
    "            a += 1\n",
    "        elif i == ')': # 빼기\n",
    "            a = a - 1\n",
    "            if a < 0:\n",
    "                return False\n",
    "    return True\n",
    "\n",
    "def dev(c): # 문자열 나누기\n",
    "    cnt = len(c)\n",
    "    for i in range(2,cnt+1,2): # 짝수개로 짤라 균형잡힌지 확인\n",
    "        if b_check(c[:i]):\n",
    "            return c[:i],c[i:]\n",
    "            \n",
    "\n",
    "def solution(p):\n",
    "    # 1.빈 문자열이면 빈 문자열 반환\n",
    "    if not p: \n",
    "        return '' \n",
    "    \n",
    "    # 2. 빈 문자열이 아니라면 두 문자열로 나누기.\n",
    "    u, v = dev(p) \n",
    "    \n",
    "    # 3. u가 올바른 문자열이면 u에 붙인 후 반환\n",
    "    if p_check(u): \n",
    "        return u + solution(v)\n",
    "    \n",
    "    # 4. u가 올바른 문자열이 아니라면\n",
    "    else: \n",
    "        # 4-1\n",
    "        answer = '('\n",
    "        # 4-2\n",
    "        answer += solution(v)\n",
    "        # 4-3\n",
    "        answer += ')'\n",
    "        # 4-4\n",
    "        for p in u[1:len(u) - 1]:\n",
    "            if p == '(':\n",
    "                answer += ')'\n",
    "            else:\n",
    "                answer += '('\n",
    "                \n",
    "        return answer\n",
    "    \n",
    "# print(dev('))((()'))\n",
    "print(solution(\"(()())()\"))"
   ]
  },
  {
   "cell_type": "code",
   "execution_count": null,
   "metadata": {},
   "outputs": [],
   "source": []
  }
 ],
 "metadata": {
  "kernelspec": {
   "display_name": "Python 3",
   "language": "python",
   "name": "python3"
  },
  "language_info": {
   "codemirror_mode": {
    "name": "ipython",
    "version": 3
   },
   "file_extension": ".py",
   "mimetype": "text/x-python",
   "name": "python",
   "nbconvert_exporter": "python",
   "pygments_lexer": "ipython3",
   "version": "3.8.8"
  },
  "toc": {
   "base_numbering": 1,
   "nav_menu": {},
   "number_sections": true,
   "sideBar": true,
   "skip_h1_title": false,
   "title_cell": "Table of Contents",
   "title_sidebar": "Contents",
   "toc_cell": false,
   "toc_position": {},
   "toc_section_display": true,
   "toc_window_display": false
  }
 },
 "nbformat": 4,
 "nbformat_minor": 4
}
